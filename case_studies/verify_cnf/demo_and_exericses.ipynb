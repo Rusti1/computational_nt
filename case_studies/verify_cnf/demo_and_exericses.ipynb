{
 "cells": [
  {
   "cell_type": "markdown",
   "metadata": {},
   "source": [
    "# Demo exercises - Verify Class Number Formula for $\\mathbb{Q}(\\sqrt{2})$"
   ]
  },
  {
   "cell_type": "markdown",
   "metadata": {},
   "source": [
    "Example. Verify the analytic class number formula for $\\mathbb{Q}(\\sqrt{2})$"
   ]
  },
  {
   "cell_type": "code",
   "execution_count": 1,
   "metadata": {},
   "outputs": [
    {
     "data": {
      "text/plain": [
       "4"
      ]
     },
     "execution_count": 1,
     "metadata": {},
     "output_type": "execute_result"
    }
   ],
   "source": [
    "EPS = 1e-5\n",
    "\n",
    "RZF = QQ.zeta_function()\n",
    "\n",
    "def quick_der(f, eps):\n",
    "    return eps * f(1 + eps)\n",
    "\n",
    "def quick_der2(f, eps):\n",
    "    return f(1 + eps) / RZF(1 + eps)\n",
    "\n",
    "K.<a> = QuadraticField(2)\n",
    "d = K.degree()\n",
    "\n",
    "print(f\"Verifying CNF for K = {K}\")\n",
    "\n",
    "Z = K.zeta_function()\n",
    "\n",
    "cnf_lhs = quick_der(Z, EPS)\n",
    "\n",
    "print(f\"LHS of CNF = {cnf_lhs}\")\n",
    "\n",
    "the_real_embeddings = K.real_embeddings()\n",
    "\n",
    "r1 = len(the_real_embeddings)\n",
    "r2 = (d - r1)/2\n",
    "d_K = K.discriminant()\n",
    "h_K = K.class_number()\n",
    "\n",
    "phi1, phi2 = K.real_embeddings()\n",
    "\n",
    "U = K.unit_group()\n",
    "fund_units = U.fundamental_units()\n",
    "\n",
    "eps1 = fund_units[0]\n",
    "\n",
    "reg1 = log(phi1(eps1).abs()).abs()\n",
    "reg2 = log(phi2(eps1).abs()).abs()\n",
    "\n",
    "assert reg1 - reg2 < 1E-6, \"the minors ain't the same!!!\"\n",
    "\n",
    "R_K = reg1\n",
    "\n",
    "cnf_rhs = ((2 ** r1) * (2 * RR(pi))**r2 * h_K * R_K) / (K.zeta_order() * RR(sqrt(d_K.abs())))\n",
    "\n",
    "print(f\"RHS of CNF = {cnf_rhs}\")"
   ]
  },
  {
   "cell_type": "markdown",
   "metadata": {},
   "source": [
    "Exercise 1. By building on the example above, write a function which takes an input number field K, and outputs the regulator, computed as the absolute value of any minor of the $M$ matrix from the lecture. Verify your function with the native ``K.regulator``."
   ]
  },
  {
   "cell_type": "code",
   "execution_count": 74,
   "metadata": {},
   "outputs": [
    {
     "name": "stdout",
     "output_type": "stream",
     "text": [
      "1.11022302462516e-16\n",
      "2.22044604925031e-16\n",
      "5.55111512312578e-17\n",
      "-3.10862446895044e-15\n"
     ]
    }
   ],
   "source": [
    "def regul(K):\n",
    "    fund_units = K.unit_group().fundamental_units()\n",
    "    cembs = [ em for em in K.embeddings(CC)]\n",
    "    y = K.gen()\n",
    "    for phi in cembs:\n",
    "        if phi(y).is_real():\n",
    "            cembs.remove(phi)\n",
    "    for phi in cembs:\n",
    "        for psi in cembs:\n",
    "            if psi(y) == phi(y).conjugate():\n",
    "                cembs.remove(psi)\n",
    "    rembs = K.real_embeddings()\n",
    "\n",
    "    r = len(rembs)\n",
    "    s = len(cembs)\n",
    "    Mat = matrix([([log(abs(phi(t))) for phi in rembs]+[2*log(abs(phi(t))) for phi in cembs]) for t in fund_units])\n",
    "    values = [abs(m) for m in Mat.minors(r+s-1)]\n",
    "    av = sum(values)/len(values)\n",
    "    return av\n",
    "regul(K)\n",
    "L = [QuadraticField(p) for p in prime_range(10)]\n",
    "for F in L:\n",
    "    print(F.regulator()-regul(F))"
   ]
  },
  {
   "cell_type": "markdown",
   "metadata": {},
   "source": [
    "Exercise 2. Can you improve on the methods of approximating the residue at s=1 of the Zeta function shown in the example?"
   ]
  }
 ],
 "metadata": {
  "kernelspec": {
   "display_name": "SageMath 9.2",
   "language": "sage",
   "name": "sagemath"
  },
  "language_info": {
   "codemirror_mode": {
    "name": "ipython",
    "version": 3
   },
   "file_extension": ".py",
   "mimetype": "text/x-python",
   "name": "python",
   "nbconvert_exporter": "python",
   "pygments_lexer": "ipython3",
   "version": "3.7.7"
  }
 },
 "nbformat": 4,
 "nbformat_minor": 4
}
