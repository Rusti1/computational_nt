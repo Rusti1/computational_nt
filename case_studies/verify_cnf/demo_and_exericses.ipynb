{
 "cells": [
  {
   "cell_type": "markdown",
   "source": [
    "# Demo exercises - Verify Class Number Formula for $\\mathbb{Q}(\\sqrt{2})$"
   ],
   "metadata": {}
  },
  {
   "cell_type": "markdown",
   "source": [
    "Example. Verify the analytic class number formula for $\\mathbb{Q}(\\sqrt{2})$"
   ],
   "metadata": {}
  },
  {
   "cell_type": "code",
   "execution_count": 1,
   "source": [
    "EPS = 1e-5\n",
    "\n",
    "RZF = QQ.zeta_function()\n",
    "\n",
    "def quick_der(f, eps):\n",
    "    return eps * f(1 + eps)\n",
    "\n",
    "def quick_der2(f, eps):\n",
    "    return f(1 + eps) / RZF(1 + eps)\n",
    "\n",
    "K.<a> = QuadraticField(2)\n",
    "d = K.degree()\n",
    "\n",
    "print(f\"Verifying CNF for K = {K}\")\n",
    "\n",
    "Z = K.zeta_function()\n",
    "\n",
    "cnf_lhs = quick_der(Z, EPS)\n",
    "\n",
    "print(f\"LHS of CNF = {cnf_lhs}\")\n",
    "\n",
    "the_real_embeddings = K.real_embeddings()\n",
    "\n",
    "r1 = len(the_real_embeddings)\n",
    "r2 = (d - r1)/2\n",
    "d_K = K.discriminant()\n",
    "h_K = K.class_number()\n",
    "\n",
    "phi1, phi2 = K.real_embeddings()\n",
    "\n",
    "U = K.unit_group()\n",
    "fund_units = U.fundamental_units()\n",
    "\n",
    "eps1 = fund_units[0]\n",
    "\n",
    "reg1 = log(phi1(eps1).abs()).abs()\n",
    "reg2 = log(phi2(eps1).abs()).abs()\n",
    "\n",
    "assert reg1 - reg2 < 1E-6, \"the minors ain't the same!!!\"\n",
    "\n",
    "R_K = reg1\n",
    "\n",
    "cnf_rhs = ((2 ** r1) * (2 * RR(pi))**r2 * h_K * R_K) / (K.zeta_order() * RR(sqrt(d_K.abs())))\n",
    "\n",
    "print(f\"RHS of CNF = {cnf_rhs}\")"
   ],
   "outputs": [
    {
     "output_type": "execute_result",
     "data": {
      "text/plain": [
       "4"
      ]
     },
     "metadata": {},
     "execution_count": 1
    }
   ],
   "metadata": {}
  },
  {
   "cell_type": "markdown",
   "source": [
    "Exercise 1. By building on the example above, write a function which takes an input number field K, and outputs the regulator, computed as the absolute value of any minor of the $M$ matrix from the lecture. Verify your function with the native ``K.regulator``."
   ],
   "metadata": {}
  },
  {
   "cell_type": "markdown",
   "source": [
    "Exercise 2. Can you improve on the methods of approximating the residue at s=1 of the Zeta function shown in the example?"
   ],
   "metadata": {}
  }
 ],
 "metadata": {
  "kernelspec": {
   "display_name": "SageMath 9.2",
   "language": "sage",
   "name": "sagemath"
  },
  "language_info": {
   "codemirror_mode": {
    "name": "ipython",
    "version": 3
   },
   "file_extension": ".py",
   "mimetype": "text/x-python",
   "name": "python",
   "nbconvert_exporter": "python",
   "pygments_lexer": "ipython3",
   "version": "3.8.5"
  }
 },
 "nbformat": 4,
 "nbformat_minor": 4
}