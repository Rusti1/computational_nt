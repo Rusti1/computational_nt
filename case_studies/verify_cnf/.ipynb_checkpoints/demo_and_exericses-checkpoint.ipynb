{
 "cells": [
  {
   "cell_type": "markdown",
   "metadata": {},
   "source": [
    "# Demo exercises - Verify Class Number Formula for $\\mathbb{Q}(\\sqrt{2})$"
   ]
  },
  {
   "cell_type": "markdown",
   "metadata": {},
   "source": [
    "Example. Verify the analytic class number formula for $\\mathbb{Q}(\\sqrt{2})$"
   ]
  },
  {
   "cell_type": "code",
   "execution_count": 1,
   "metadata": {},
   "outputs": [
    {
     "data": {
      "text/plain": [
       "4"
      ]
     },
     "execution_count": 1,
     "metadata": {},
     "output_type": "execute_result"
    }
   ],
   "source": [
    "EPS = 1e-5\n",
    "\n",
    "RZF = QQ.zeta_function()\n",
    "\n",
    "def quick_der(f, eps):\n",
    "    return eps * f(1 + eps)\n",
    "\n",
    "def quick_der2(f, eps):\n",
    "    return f(1 + eps) / RZF(1 + eps)\n",
    "\n",
    "K.<a> = QuadraticField(2)\n",
    "d = K.degree()\n",
    "\n",
    "print(f\"Verifying CNF for K = {K}\")\n",
    "\n",
    "Z = K.zeta_function()\n",
    "\n",
    "cnf_lhs = quick_der(Z, EPS)\n",
    "\n",
    "print(f\"LHS of CNF = {cnf_lhs}\")\n",
    "\n",
    "the_real_embeddings = K.real_embeddings()\n",
    "\n",
    "r1 = len(the_real_embeddings)\n",
    "r2 = (d - r1)/2\n",
    "d_K = K.discriminant()\n",
    "h_K = K.class_number()\n",
    "\n",
    "phi1, phi2 = K.real_embeddings()\n",
    "\n",
    "U = K.unit_group()\n",
    "fund_units = U.fundamental_units()\n",
    "\n",
    "eps1 = fund_units[0]\n",
    "\n",
    "reg1 = log(phi1(eps1).abs()).abs()\n",
    "reg2 = log(phi2(eps1).abs()).abs()\n",
    "\n",
    "assert reg1 - reg2 < 1E-6, \"the minors ain't the same!!!\"\n",
    "\n",
    "R_K = reg1\n",
    "\n",
    "cnf_rhs = ((2 ** r1) * (2 * RR(pi))**r2 * h_K * R_K) / (K.zeta_order() * RR(sqrt(d_K.abs())))\n",
    "\n",
    "print(f\"RHS of CNF = {cnf_rhs}\")"
   ]
  },
  {
   "cell_type": "markdown",
   "metadata": {},
   "source": [
    "Exercise 1. By building on the example above, write a function which takes an input number field K, and outputs the regulator, computed as the absolute value of any minor of the $M$ matrix from the lecture. Verify your function with the native ``K.regulator``."
   ]
  },
  {
   "cell_type": "code",
   "execution_count": 42,
   "metadata": {},
   "outputs": [
    {
     "data": {
      "text/plain": [
       "[4.03458490088372, -4.03458490088372, 2.01729245044186, -2.01729245044186]"
      ]
     },
     "execution_count": 42,
     "metadata": {},
     "output_type": "execute_result"
    }
   ],
   "source": [
    "def regul(K):\n",
    "    fund_units = K.unit_group().fundamental_units()\n",
    "    embs = [ em for em in K.embeddings(CC)]\n",
    "    y = K.gen()\n",
    "    for phi in embs:\n",
    "        if phi(y).is_real():\n",
    "            embs.remove(phi)\n",
    "    for phi in embs:\n",
    "        for psi in embs:\n",
    "            if psi(y) == phi(y).conjugate():\n",
    "                embs.remove(psi)\n",
    "    embfin = K.real_embeddings()+embs\n",
    "    Mat = matrix([[log(abs(phi(t))) for phi in embfin] for t in fund_units])\n",
    "    return Mat\n",
    "regul(K)\n",
    "M = regul(K); M.minors(3)"
   ]
  },
  {
   "cell_type": "code",
   "execution_count": 12,
   "metadata": {},
   "outputs": [
    {
     "data": {
      "text/plain": [
       "[\n",
       "Ring morphism:\n",
       "  From: Number Field in y with defining polynomial x^6 - 2\n",
       "  To:   Complex Field with 53 bits of precision\n",
       "  Defn: y |--> -1.12246204830937,\n",
       "Ring morphism:\n",
       "  From: Number Field in y with defining polynomial x^6 - 2\n",
       "  To:   Complex Field with 53 bits of precision\n",
       "  Defn: y |--> -0.561231024154687 - 0.972080648619833*I,\n",
       "Ring morphism:\n",
       "  From: Number Field in y with defining polynomial x^6 - 2\n",
       "  To:   Complex Field with 53 bits of precision\n",
       "  Defn: y |--> -0.561231024154687 + 0.972080648619833*I,\n",
       "Ring morphism:\n",
       "  From: Number Field in y with defining polynomial x^6 - 2\n",
       "  To:   Complex Field with 53 bits of precision\n",
       "  Defn: y |--> 0.561231024154687 - 0.972080648619833*I,\n",
       "Ring morphism:\n",
       "  From: Number Field in y with defining polynomial x^6 - 2\n",
       "  To:   Complex Field with 53 bits of precision\n",
       "  Defn: y |--> 0.561231024154687 + 0.972080648619833*I,\n",
       "Ring morphism:\n",
       "  From: Number Field in y with defining polynomial x^6 - 2\n",
       "  To:   Complex Field with 53 bits of precision\n",
       "  Defn: y |--> 1.12246204830937\n",
       "]"
      ]
     },
     "execution_count": 12,
     "metadata": {},
     "output_type": "execute_result"
    }
   ],
   "source": [
    "K.<y> = NumberField(x^6-2);K.embeddings(CC)"
   ]
  },
  {
   "cell_type": "markdown",
   "metadata": {},
   "source": [
    "Exercise 2. Can you improve on the methods of approximating the residue at s=1 of the Zeta function shown in the example?"
   ]
  },
  {
   "cell_type": "code",
   "execution_count": 5,
   "metadata": {},
   "outputs": [],
   "source": [
    "my_embed = K.embeddings(CC)"
   ]
  },
  {
   "cell_type": "code",
   "execution_count": 19,
   "metadata": {},
   "outputs": [],
   "source": [
    "test = my_embed[0]\n",
    "embs = [em for em in my_embed]"
   ]
  },
  {
   "cell_type": "code",
   "execution_count": 21,
   "metadata": {},
   "outputs": [
    {
     "data": {
      "text/plain": [
       "[Ring morphism:\n",
       "   From: Number Field in y with defining polynomial x^6 - 2\n",
       "   To:   Complex Field with 53 bits of precision\n",
       "   Defn: y |--> -0.561231024154687 + 0.972080648619833*I,\n",
       " Ring morphism:\n",
       "   From: Number Field in y with defining polynomial x^6 - 2\n",
       "   To:   Complex Field with 53 bits of precision\n",
       "   Defn: y |--> 0.561231024154687 + 0.972080648619833*I]"
      ]
     },
     "execution_count": 21,
     "metadata": {},
     "output_type": "execute_result"
    }
   ],
   "source": [
    " for phi in embs:\n",
    "        for psi in embs:\n",
    "            if psi(y) == phi(y).conjugate():\n",
    "                embs.remove(psi)\n",
    "embs"
   ]
  },
  {
   "cell_type": "code",
   "execution_count": null,
   "metadata": {},
   "outputs": [],
   "source": []
  }
 ],
 "metadata": {
  "kernelspec": {
   "display_name": "SageMath 9.2",
   "language": "sage",
   "name": "sagemath"
  },
  "language_info": {
   "codemirror_mode": {
    "name": "ipython",
    "version": 3
   },
   "file_extension": ".py",
   "mimetype": "text/x-python",
   "name": "python",
   "nbconvert_exporter": "python",
   "pygments_lexer": "ipython3",
   "version": "3.7.7"
  }
 },
 "nbformat": 4,
 "nbformat_minor": 4
}
