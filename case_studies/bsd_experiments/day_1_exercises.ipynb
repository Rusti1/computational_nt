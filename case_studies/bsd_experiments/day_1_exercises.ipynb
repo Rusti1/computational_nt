{
 "cells": [
  {
   "cell_type": "markdown",
   "metadata": {},
   "source": [
    "# Day 1 exercises - Playing with elliptic curves in Sage"
   ]
  },
  {
   "cell_type": "markdown",
   "metadata": {},
   "source": [
    "Exercise 0. Make sure you can run the following code (to check everything is working on your system):"
   ]
  },
  {
   "cell_type": "code",
   "execution_count": 1,
   "metadata": {},
   "outputs": [
    {
     "data": {
      "text/plain": [
       "4"
      ]
     },
     "execution_count": 1,
     "metadata": {},
     "output_type": "execute_result"
    }
   ],
   "source": [
    "2+2"
   ]
  },
  {
   "cell_type": "markdown",
   "metadata": {},
   "source": [
    "Exercise 1. Let $E/\\mathbb{Q}$ be the elliptic curve $y^2 = x^3 + 76x + 123$. \n",
    "\n",
    "(a) What is the conductor of $E$?\n",
    "\n",
    "(b) What is the torsion subgroup?\n",
    "\n",
    "(c) What is the (algebraic) rank of $E$? Find a set of independent generators for the Mordell-Weil group $E(\\mathbb{Q})$."
   ]
  },
  {
   "cell_type": "code",
   "execution_count": 8,
   "metadata": {},
   "outputs": [
    {
     "data": {
      "text/plain": [
       "[(-79/121 : 11380/1331 : 1)]"
      ]
     },
     "execution_count": 8,
     "metadata": {},
     "output_type": "execute_result"
    }
   ],
   "source": [
    "\n"
   ]
  },
  {
   "cell_type": "code",
   "execution_count": 2,
   "metadata": {},
   "outputs": [
    {
     "data": {
      "text/plain": [
       "Elliptic Curve defined by y^2 = x^3 + 76*x + 123 over Rational Field"
      ]
     },
     "execution_count": 2,
     "metadata": {},
     "output_type": "execute_result"
    }
   ],
   "source": [
    "E = EllipticCurve([76,123]);E"
   ]
  },
  {
   "cell_type": "code",
   "execution_count": 3,
   "metadata": {},
   "outputs": [
    {
     "data": {
      "text/plain": [
       "34630192"
      ]
     },
     "execution_count": 3,
     "metadata": {},
     "output_type": "execute_result"
    }
   ],
   "source": [
    "E.conductor()"
   ]
  },
  {
   "cell_type": "code",
   "execution_count": 4,
   "metadata": {},
   "outputs": [
    {
     "data": {
      "text/plain": [
       "Torsion Subgroup isomorphic to Trivial group associated to the Elliptic Curve defined by y^2 = x^3 + 76*x + 123 over Rational Field"
      ]
     },
     "execution_count": 4,
     "metadata": {},
     "output_type": "execute_result"
    }
   ],
   "source": [
    "E.torsion_subgroup()"
   ]
  },
  {
   "cell_type": "code",
   "execution_count": 15,
   "metadata": {},
   "outputs": [
    {
     "data": {
      "text/plain": [
       "1"
      ]
     },
     "execution_count": 15,
     "metadata": {},
     "output_type": "execute_result"
    }
   ],
   "source": [
    "E.rank()"
   ]
  },
  {
   "cell_type": "code",
   "execution_count": 12,
   "metadata": {},
   "outputs": [
    {
     "data": {
      "text/plain": [
       "[(-79/121 : 11380/1331 : 1)]"
      ]
     },
     "execution_count": 12,
     "metadata": {},
     "output_type": "execute_result"
    }
   ],
   "source": [
    "E.gens()"
   ]
  },
  {
   "cell_type": "markdown",
   "metadata": {},
   "source": [
    "Exercise 2. Let $E/\\mathbb{Q}$ be the elliptic curve $y^2 = x^3 - 17x + 1$. \n",
    "\n",
    "(a) Plot the real points of $E$.\n",
    "\n",
    "(b) Choose three primes of good reduction for $E$. For each prime $p$, compute the number of $\\mathbb{F}_{p^i}$-points for $1 \\leq i \\leq 5$. \n",
    "\n",
    "(c) Write a function which takes as input an elliptic curve over $\\mathbb{Q}$, and a prime of good reduction for that curve, and returns the number of $\\mathbb{F}_p$-points on the curve.\n",
    "\n",
    "(d) Use your function to find an elliptic curve over $\\mathbb{F}_{101}$ admitting 123 points (rational over $\\mathbb{F}_{101}$)."
   ]
  },
  {
   "cell_type": "code",
   "execution_count": 16,
   "metadata": {},
   "outputs": [
    {
     "data": {
      "text/plain": [
       "Elliptic Curve defined by y^2 = x^3 - 17*x + 1 over Rational Field"
      ]
     },
     "execution_count": 16,
     "metadata": {},
     "output_type": "execute_result"
    }
   ],
   "source": [
    "E= EllipticCurve([-17,1]);E"
   ]
  },
  {
   "cell_type": "code",
   "execution_count": 21,
   "metadata": {},
   "outputs": [
    {
     "data": {
      "image/png": "[encoded data removed]",
      "text/plain": [
       "Graphics object consisting of 2 graphics primitives"
      ]
     },
     "execution_count": 21,
     "metadata": {},
     "output_type": "execute_result"
    }
   ],
   "source": [
    "plot(E)\n"
   ]
  },
  {
   "cell_type": "code",
   "execution_count": 24,
   "metadata": {},
   "outputs": [
    {
     "data": {
      "text/plain": [
       "2^4 * 5^3 * 157"
      ]
     },
     "execution_count": 24,
     "metadata": {},
     "output_type": "execute_result"
    }
   ],
   "source": [
    "factor(E.discriminant())"
   ]
  },
  {
   "cell_type": "code",
   "execution_count": 32,
   "metadata": {},
   "outputs": [
    {
     "name": "stdout",
     "output_type": "stream",
     "text": [
      "3 1 4\n",
      "3 2 16\n",
      "3 3 28\n",
      "3 4 64\n",
      "3 5 244\n",
      "7 1 5\n",
      "7 2 55\n",
      "7 3 380\n",
      "7 4 2475\n",
      "7 5 16775\n",
      "11 1 11\n",
      "11 2 143\n",
      "11 3 1364\n",
      "11 4 14443\n",
      "11 5 160501\n"
     ]
    }
   ],
   "source": [
    "for p in [3,7,11]:\n",
    "    for i in [1,2,3,4,5]:\n",
    "        Epi = EllipticCurve(GF(p^i),[-17,1])\n",
    "        Npi = Epi.cardinality()\n",
    "        print(p,i,Npi)"
   ]
  },
  {
   "cell_type": "code",
   "execution_count": 41,
   "metadata": {
    "scrolled": true
   },
   "outputs": [
    {
     "name": "stdout",
     "output_type": "stream",
     "text": [
      "4\n"
     ]
    }
   ],
   "source": [
    "def pts(G,l):\n",
    "    N = G.Np(l)\n",
    "    return N\n",
    "print(pts(E,3))\n"
   ]
  },
  {
   "cell_type": "code",
   "execution_count": 56,
   "metadata": {},
   "outputs": [],
   "source": [
    "for a in range(101):\n",
    "    for b in range (101):\n",
    "        Delta = -16*(4*a^3+27*b^2)\n",
    "        if Delta != 0:\n",
    "            C = EllipticCurve([a,b])\n",
    "            if C.discriminant() % 101 != 0 % 101:\n",
    "                if C.Np(101) == 123:\n",
    "                    print(a,b)"
   ]
  },
  {
   "cell_type": "markdown",
   "metadata": {},
   "source": [
    "Exercise 3. Let $K$ be the Galois cubic field of smallest absolute discriminant. What is the polynomial which defines $K$?"
   ]
  },
  {
   "cell_type": "code",
   "execution_count": 88,
   "metadata": {},
   "outputs": [
    {
     "name": "stdout",
     "output_type": "stream",
     "text": [
      "-9 -1 1 49\n",
      "-8 5 1 49\n",
      "-7 0 7 49\n",
      "-7 7 7 49\n",
      "-6 5 -1 49\n",
      "-5 -8 -1 49\n",
      "-5 6 -1 49\n",
      "-4 -4 8 49\n",
      "-4 3 1 49\n",
      "-3 -4 -1 49\n",
      "-2 -8 8 49\n",
      "-2 -1 1 49\n",
      "-1 -9 1 49\n",
      "-1 -2 1 49\n",
      "0 -7 -7 49\n",
      "0 -7 7 49\n",
      "1 -9 -1 49\n",
      "1 -2 -1 49\n",
      "2 -8 -8 49\n",
      "2 -1 -1 49\n",
      "3 -4 1 49\n",
      "4 -4 -8 49\n",
      "4 3 -1 49\n",
      "5 -8 1 49\n",
      "5 6 1 49\n",
      "6 5 1 49\n",
      "7 0 -7 49\n",
      "7 7 -7 49\n",
      "8 5 -1 49\n",
      "9 -1 -1 49\n"
     ]
    }
   ],
   "source": [
    "R = QQ['x']\n",
    "x = R.gen()\n",
    "def discri(a,b,c):\n",
    "    if (x^3+a*x^2+b*x+c).is_irreducible():\n",
    "        K.<y> = NumberField(x^3+a*x^2+b*x+c)\n",
    "        return K.absolute_discriminant()\n",
    "   \n",
    "   \n",
    "\n",
    "for a in range(-10,10):\n",
    "    for b in range(-10,10):\n",
    "        for c in range(-10,10):\n",
    "            if discri(a,b,c)==49:\n",
    "                print(a,b,c,discri(a,b,c))\n"
   ]
  },
  {
   "cell_type": "markdown",
   "metadata": {},
   "source": [
    "Exercise 4. Let $a$ be a generator of the number field $K$ in Exercise 3, and let $E/K$ be the elliptic curve $y^2 + ay = x^3 + 10ax + 19$.\n",
    "\n",
    "(a) What is the conductor of $E$? What is the norm of this conductor?\n",
    "\n",
    "(b) Choose three prime ideals of good reduction for $E$. For each prime ideal $\\mathfrak{p}$, compute the number of $\\mathbb{F}_{\\mathfrak{p}}$-points."
   ]
  },
  {
   "cell_type": "code",
   "execution_count": 12,
   "metadata": {},
   "outputs": [
    {
     "data": {
      "text/plain": [
       "Number Field in a with defining polynomial x^3 - x^2 - 2*x + 1"
      ]
     },
     "execution_count": 12,
     "metadata": {},
     "output_type": "execute_result"
    }
   ],
   "source": [
    "#We use the Field from LMFDB since we are unsure, wheather Ex. 4 is well posed otherwhise.\n",
    "f = x^3 - x^2 -2*x + 1\n",
    "K.<a> = NumberField(f);K"
   ]
  },
  {
   "cell_type": "code",
   "execution_count": 13,
   "metadata": {},
   "outputs": [
    {
     "data": {
      "text/plain": [
       "Elliptic Curve defined by y^2 + a*y = x^3 + 10*a*x + 19 over Number Field in a with defining polynomial x^3 - x^2 - 2*x + 1"
      ]
     },
     "execution_count": 13,
     "metadata": {},
     "output_type": "execute_result"
    }
   ],
   "source": [
    "E = EllipticCurve(K,[0,0,a,10*a,19]); E"
   ]
  },
  {
   "cell_type": "code",
   "execution_count": 105,
   "metadata": {},
   "outputs": [
    {
     "data": {
      "text/plain": [
       "3384137285307827"
      ]
     },
     "execution_count": 105,
     "metadata": {},
     "output_type": "execute_result"
    }
   ],
   "source": [
    "E.conductor()\n",
    "E.conductor().norm()"
   ]
  },
  {
   "cell_type": "code",
   "execution_count": 106,
   "metadata": {},
   "outputs": [
    {
     "data": {
      "text/plain": [
       "Fractional ideal (32083*a^2 - 132351*a - 59842)"
      ]
     },
     "execution_count": 106,
     "metadata": {},
     "output_type": "execute_result"
    }
   ],
   "source": [
    "E.conductor()"
   ]
  },
  {
   "cell_type": "code",
   "execution_count": 132,
   "metadata": {},
   "outputs": [
    {
     "name": "stdout",
     "output_type": "stream",
     "text": [
      "2 Fractional ideal (2) 9\n",
      "3 Fractional ideal (3) 37\n",
      "5 Fractional ideal (5) 126\n",
      "7 Fractional ideal (-a^2 - a + 2) 11\n",
      "11 Fractional ideal (11) 1380\n",
      "13 Fractional ideal (a^2 + a - 3) 10\n",
      "13 Fractional ideal (a^2 - 2*a - 2) 12\n",
      "13 Fractional ideal (-2*a^2 + a + 2) 10\n",
      "17 Fractional ideal (17) 4853\n",
      "19 Fractional ideal (19) 6704\n",
      "23 Fractional ideal (23) 12231\n",
      "29 Fractional ideal (3*a^2 - 2*a - 4) 22\n",
      "29 Fractional ideal (2*a^2 - 3*a - 3) 32\n",
      "29 Fractional ideal (a^2 - 5) 33\n",
      "31 Fractional ideal (31) 30022\n",
      "37 Fractional ideal (37) 50322\n",
      "41 Fractional ideal (a^2 + 2*a - 4) 51\n",
      "41 Fractional ideal (2*a^2 - 3*a - 4) 50\n",
      "41 Fractional ideal (3*a^2 - a - 3) 40\n",
      "43 Fractional ideal (a^2 - 3*a - 2) 33\n",
      "43 Fractional ideal (-2*a^2 - a + 5) 44\n",
      "43 Fractional ideal (-3*a^2 + 2*a + 3) 42\n",
      "47 Fractional ideal (47) 103299\n",
      "53 Fractional ideal (53) 148502\n",
      "59 Fractional ideal (59) 205086\n",
      "61 Fractional ideal (61) 227553\n",
      "67 Fractional ideal (67) 299880\n",
      "71 Fractional ideal (4*a^2 - 3*a - 5) 64\n",
      "71 Fractional ideal (-3*a^2 + 4*a + 5) 56\n",
      "71 Fractional ideal (a^2 - 6) 73\n",
      "73 Fractional ideal (73) 389680\n",
      "79 Fractional ideal (79) 492096\n",
      "83 Fractional ideal (4*a^2 - 2*a - 5) 88\n",
      "83 Fractional ideal (2*a^2 + 2*a - 5) 70\n",
      "83 Fractional ideal (-2*a^2 + 4*a + 3) 70\n",
      "89 Fractional ideal (89) 705759\n",
      "97 Fractional ideal (-3*a^2 - a + 7) 91\n",
      "97 Fractional ideal (-4*a^2 + 3*a + 4) 97\n",
      "97 Fractional ideal (a^2 - 4*a - 2) 116\n",
      "101 Fractional ideal (101) 1031184\n",
      "103 Fractional ideal (103) 1093941\n",
      "107 Fractional ideal (107) 1224410\n",
      "109 Fractional ideal (109) 1295379\n",
      "113 Fractional ideal (-3*a^2 - a + 8) 120\n",
      "113 Fractional ideal (-4*a^2 + 3*a + 3) 106\n",
      "113 Fractional ideal (a^2 - 4*a - 3) 98\n",
      "127 Fractional ideal (-2*a^2 + 5*a + 2) 132\n",
      "127 Fractional ideal (3*a^2 + 2*a - 6) 124\n",
      "127 Fractional ideal (5*a^2 - 3*a - 7) 136\n",
      "131 Fractional ideal (131) 2245608\n",
      "137 Fractional ideal (137) 2572145\n",
      "139 Fractional ideal (a + 5) 137\n",
      "139 Fractional ideal (a^2 - a + 4) 157\n",
      "139 Fractional ideal (a^2 - 7) 139\n",
      "149 Fractional ideal (149) 3306245\n",
      "151 Fractional ideal (151) 3445261\n",
      "157 Fractional ideal (157) 3868591\n",
      "163 Fractional ideal (163) 4334310\n",
      "167 Fractional ideal (-5*a^2 + 2*a + 6) 177\n",
      "167 Fractional ideal (-2*a^2 - 3*a + 6) 160\n",
      "167 Fractional ideal (-3*a^2 + 5*a + 5) 165\n",
      "173 Fractional ideal (173) 5176999\n",
      "179 Fractional ideal (179) 5736633\n",
      "181 Fractional ideal (-4*a^2 - a + 9) 195\n",
      "181 Fractional ideal (-5*a^2 + 4*a + 5) 169\n",
      "181 Fractional ideal (a^2 - 5*a - 2) 189\n",
      "191 Fractional ideal (191) 6968644\n",
      "193 Fractional ideal (193) 7190001\n",
      "197 Fractional ideal (5*a^2 - 2*a - 5) 176\n",
      "197 Fractional ideal (3*a^2 - 5*a - 6) 204\n",
      "197 Fractional ideal (2*a^2 + 3*a - 7) 196\n",
      "199 Fractional ideal (199) 7885413\n",
      "211 Fractional ideal (-5*a^2 + 4*a + 4) 220\n",
      "211 Fractional ideal (a^2 - 5*a - 3) 206\n",
      "211 Fractional ideal (4*a^2 + a - 10) 198\n",
      "223 Fractional ideal (3*a^2 + 2*a - 9) 222\n",
      "223 Fractional ideal (-5*a^2 + 3*a + 4) 229\n",
      "223 Fractional ideal (-2*a^2 + 5*a + 5) 234\n",
      "227 Fractional ideal (227) 11700543\n",
      "229 Fractional ideal (229) 12011412\n",
      "233 Fractional ideal (233) 12654612\n",
      "239 Fractional ideal (a + 6) 234\n",
      "239 Fractional ideal (a^2 - a + 5) 233\n",
      "239 Fractional ideal (a^2 - 8) 245\n",
      "241 Fractional ideal (241) 13996957\n",
      "251 Fractional ideal (3*a^2 + 3*a - 7) 255\n",
      "251 Fractional ideal (-3*a^2 + 6*a + 4) 242\n",
      "251 Fractional ideal (-6*a^2 + 3*a + 8) 269\n",
      "257 Fractional ideal (257) 16978088\n",
      "263 Fractional ideal (263) 18185835\n",
      "269 Fractional ideal (269) 19472085\n",
      "271 Fractional ideal (271) 19901800\n",
      "277 Fractional ideal (277) 21254430\n",
      "281 Fractional ideal (a^2 - a - 8) 289\n",
      "281 Fractional ideal (a^2 + 5) 281\n",
      "281 Fractional ideal (a - 7) 310\n",
      "283 Fractional ideal (283) 22662400\n",
      "293 Fractional ideal (2*a^2 - 6*a - 3) 275\n",
      "293 Fractional ideal (4*a^2 + 2*a - 9) 324\n",
      "293 Fractional ideal (-6*a^2 + 4*a + 7) 300\n",
      "307 Fractional ideal (-3*a^2 + 6*a + 5) 328\n",
      "307 Fractional ideal (3*a^2 + 3*a - 8) 276\n",
      "307 Fractional ideal (6*a^2 - 3*a - 7) 331\n",
      "311 Fractional ideal (311) 30081874\n",
      "313 Fractional ideal (313) 30669131\n",
      "317 Fractional ideal (317) 31864389\n",
      "331 Fractional ideal (331) 36253764\n",
      "337 Fractional ideal (-3*a^2 + 7*a + 3) 338\n",
      "337 Fractional ideal (3*a^2 + 4*a - 7) 360\n",
      "337 Fractional ideal (4*a^2 + 3*a - 8) 360\n",
      "347 Fractional ideal (347) 41771868\n",
      "349 Fractional ideal (2*a^2 + a + 4) 381\n",
      "349 Fractional ideal (6*a^2 - 2*a - 5) 319\n",
      "349 Fractional ideal (a^2 - 6*a - 3) 378\n",
      "353 Fractional ideal (353) 43981754\n",
      "359 Fractional ideal (359) 46255728\n",
      "367 Fractional ideal (367) 49438753\n",
      "373 Fractional ideal (373) 51901213\n",
      "379 Fractional ideal (-2*a^2 + 6*a + 5) 350\n",
      "379 Fractional ideal (-4*a^2 - 2*a + 11) 396\n",
      "379 Fractional ideal (6*a^2 - 4*a - 5) 411\n",
      "383 Fractional ideal (383) 56182772\n",
      "389 Fractional ideal (389) 58857612\n",
      "397 Fractional ideal (397) 62582884\n",
      "401 Fractional ideal (401) 64477296\n",
      "409 Fractional ideal (409) 68431170\n",
      "419 Fractional ideal (4*a^2 - 7*a - 6) 398\n",
      "419 Fractional ideal (7*a^2 - 3*a - 9) 420\n",
      "419 Fractional ideal (-3*a^2 - 4*a + 8) 455\n",
      "421 Fractional ideal (4*a^2 + 3*a - 9) 434\n",
      "421 Fractional ideal (-7*a^2 + 4*a + 9) 400\n",
      "421 Fractional ideal (-3*a^2 + 7*a + 4) 404\n",
      "431 Fractional ideal (431) 80057200\n",
      "433 Fractional ideal (a^2 - a - 9) 466\n",
      "433 Fractional ideal (a^2 + 6) 448\n",
      "433 Fractional ideal (a - 8) 470\n",
      "439 Fractional ideal (439) 84601302\n",
      "443 Fractional ideal (443) 86941980\n",
      "449 Fractional ideal (a^2 + a - 10) 443\n",
      "449 Fractional ideal (-8*a^2 + 6*a + 11) 424\n",
      "449 Fractional ideal (-5*a^2 + 7*a + 9) 476\n",
      "457 Fractional ideal (457) 95431568\n",
      "461 Fractional ideal (-7*a^2 + 5*a + 8) 472\n",
      "461 Fractional ideal (2*a^2 - 7*a - 3) 433\n",
      "461 Fractional ideal (5*a^2 + 2*a - 11) 462\n",
      "463 Fractional ideal (a^2 - 2*a + 7) 457\n",
      "463 Fractional ideal (a^2 + a + 6) 445\n",
      "463 Fractional ideal (2*a^2 - a - 11) 475\n",
      "467 Fractional ideal (467) 101862068\n",
      "479 Fractional ideal (479) 109892362\n",
      "487 Fractional ideal (487) 115505580\n",
      "491 Fractional ideal (7*a^2 - 3*a - 8) 520\n",
      "491 Fractional ideal (4*a^2 - 7*a - 7) 521\n",
      "491 Fractional ideal (3*a^2 + 4*a - 9) 502\n",
      "499 Fractional ideal (499) 124261842\n",
      "503 Fractional ideal (-2*a^2 - 5) 516\n",
      "503 Fractional ideal (7*a + 2) 500\n",
      "503 Fractional ideal (7*a^2 - 2*a - 7) 521\n",
      "509 Fractional ideal (509) 131886356\n",
      "521 Fractional ideal (521) 141415924\n",
      "523 Fractional ideal (523) 143064410\n",
      "541 Fractional ideal (541) 158350856\n",
      "547 Fractional ideal (4*a^2 - 7*a - 8) 537\n",
      "547 Fractional ideal (7*a^2 - 3*a - 7) 506\n",
      "547 Fractional ideal (-3*a^2 - 4*a + 10) 568\n",
      "557 Fractional ideal (557) 172809292\n",
      "563 Fractional ideal (563) 178440925\n",
      "569 Fractional ideal (569) 184242172\n",
      "571 Fractional ideal (571) 186172632\n",
      "577 Fractional ideal (577) 192104145\n",
      "587 Fractional ideal (7*a^2 - 5*a - 6) 599\n",
      "587 Fractional ideal (-2*a^2 + 7*a + 5) 565\n",
      "587 Fractional ideal (5*a^2 + 2*a - 13) 542\n",
      "593 Fractional ideal (593) 208528887\n",
      "599 Fractional ideal (599) 214932009\n",
      "601 Fractional ideal (-3*a^2 + 7*a + 7) 605\n",
      "601 Fractional ideal (-4*a^2 - 3*a + 12) 599\n",
      "601 Fractional ideal (-7*a^2 + 4*a + 6) 632\n",
      "607 Fractional ideal (607) 223644131\n",
      "613 Fractional ideal (613) 230351826\n",
      "617 Fractional ideal (5*a^2 + 2*a - 14) 664\n",
      "617 Fractional ideal (4*a^2 + 3*a - 13) 597\n",
      "617 Fractional ideal (-5*a^2 - 2*a + 15) 630\n",
      "619 Fractional ideal (619) 237172336\n",
      "631 Fractional ideal (a^2 - a - 10) 656\n",
      "631 Fractional ideal (a^2 + 7) 659\n",
      "631 Fractional ideal (a - 9) 614\n",
      "641 Fractional ideal (641) 263357244\n",
      "643 Fractional ideal (-5*a^2 - 3*a + 11) 645\n",
      "643 Fractional ideal (8*a^2 - 5*a - 10) 653\n",
      "643 Fractional ideal (3*a^2 - 8*a - 4) 667\n",
      "647 Fractional ideal (647) 270827674\n",
      "653 Fractional ideal (653) 278445973\n",
      "659 Fractional ideal (a^2 + a - 11) 667\n",
      "659 Fractional ideal (a^2 - 2*a - 10) 634\n",
      "659 Fractional ideal (-2*a^2 + a - 6) 664\n",
      "661 Fractional ideal (661) 288781997\n",
      "673 Fractional ideal (a^2 - 2*a + 8) 701\n",
      "673 Fractional ideal (a^2 + a + 7) 646\n",
      "673 Fractional ideal (-2*a^2 + a + 12) 680\n",
      "677 Fractional ideal (677) 310294728\n",
      "683 Fractional ideal (683) 318623415\n",
      "691 Fractional ideal (691) 329906187\n",
      "701 Fractional ideal (-4*a^2 + 9*a + 4) 684\n",
      "701 Fractional ideal (-5*a^2 - 4*a + 10) 728\n",
      "701 Fractional ideal (4*a^2 + 5*a - 9) 710\n",
      "709 Fractional ideal (709) 356403558\n",
      "719 Fractional ideal (719) 371715650\n",
      "727 Fractional ideal (5*a^2 - 8*a - 9) 744\n",
      "727 Fractional ideal (8*a^2 - 3*a - 9) 736\n",
      "727 Fractional ideal (3*a^2 + 5*a - 10) 740\n",
      "733 Fractional ideal (733) 393866592\n",
      "739 Fractional ideal (739) 403573549\n",
      "743 Fractional ideal (-3*a^2 + 8*a + 5) 715\n",
      "743 Fractional ideal (5*a^2 + 3*a - 12) 762\n",
      "743 Fractional ideal (-8*a^2 + 5*a + 9) 739\n",
      "751 Fractional ideal (751) 423547767\n",
      "757 Fractional ideal (4*a^2 + 4*a - 11) 770\n",
      "757 Fractional ideal (-8*a^2 + 4*a + 9) 769\n",
      "757 Fractional ideal (-4*a^2 + 8*a + 7) 724\n",
      "761 Fractional ideal (761) 440707624\n",
      "769 Fractional ideal (8*a^2 - 2*a - 7) 725\n",
      "769 Fractional ideal (a^2 - 8*a - 3) 765\n",
      "769 Fractional ideal (2*a^2 + a + 6) 775\n",
      "773 Fractional ideal (773) 461906634\n",
      "787 Fractional ideal (787) 487454865\n",
      "797 Fractional ideal (3*a^2 + 5*a - 11) 788\n",
      "797 Fractional ideal (-8*a^2 + 3*a + 8) 787\n",
      "797 Fractional ideal (-5*a^2 + 8*a + 10) 828\n",
      "809 Fractional ideal (809) 529519488\n",
      "811 Fractional ideal (2*a^2 - 13) 832\n",
      "811 Fractional ideal (7*a^2 - 9*a - 12) 788\n",
      "811 Fractional ideal (-2*a - 9) 829\n",
      "821 Fractional ideal (821) 553348998\n",
      "823 Fractional ideal (823) 557441796\n",
      "827 Fractional ideal (3*a^2 - 8*a - 6) 785\n",
      "827 Fractional ideal (-5*a^2 - 3*a + 13) 823\n",
      "827 Fractional ideal (-8*a^2 + 5*a + 8) 871\n",
      "829 Fractional ideal (829) 569746537\n",
      "839 Fractional ideal (5*a^2 - 9*a - 7) 891\n",
      "839 Fractional ideal (-4*a^2 - 5*a + 10) 837\n",
      "839 Fractional ideal (9*a^2 - 4*a - 12) 793\n",
      "853 Fractional ideal (-2*a^2 + 8*a + 5) 885\n",
      "853 Fractional ideal (8*a^2 - 6*a - 7) 817\n",
      "853 Fractional ideal (6*a^2 + 2*a - 15) 884\n",
      "857 Fractional ideal (857) 629406276\n",
      "859 Fractional ideal (859) 633866868\n",
      "863 Fractional ideal (863) 642728244\n",
      "877 Fractional ideal (877) 674485767\n",
      "881 Fractional ideal (a^2 - a - 11) 897\n",
      "881 Fractional ideal (a^2 + 8) 882\n",
      "881 Fractional ideal (a - 10) 912\n",
      "883 Fractional ideal (8*a^2 - 4*a - 7) 864\n",
      "883 Fractional ideal (4*a^2 + 4*a - 13) 883\n",
      "883 Fractional ideal (4*a^2 - 8*a - 9) 918\n",
      "887 Fractional ideal (887) 697872606\n",
      "907 Fractional ideal (907) 746147110\n",
      "911 Fractional ideal (10*a^2 - 7*a - 14) 918\n",
      "911 Fractional ideal (-9*a^2 + 3*a + 11) 900\n",
      "911 Fractional ideal (6*a^2 - 9*a - 10) 890\n",
      "919 Fractional ideal (919) 776166288\n",
      "929 Fractional ideal (929) 801754372\n",
      "937 Fractional ideal (a^2 - 2*a + 9) 990\n",
      "937 Fractional ideal (a^2 + a + 8) 891\n",
      "937 Fractional ideal (2*a^2 - a - 13) 913\n",
      "941 Fractional ideal (941) 833180850\n",
      "947 Fractional ideal (947) 849283976\n",
      "953 Fractional ideal (-9*a^2 + 7*a + 10) 928\n",
      "953 Fractional ideal (2*a^2 - 9*a - 3) 985\n",
      "953 Fractional ideal (-7*a^2 - 2*a + 15) 918\n",
      "967 Fractional ideal (9*a^2 - 4*a - 11) 1000\n",
      "967 Fractional ideal (4*a^2 + 5*a - 11) 935\n",
      "967 Fractional ideal (5*a^2 - 9*a - 8) 960\n",
      "971 Fractional ideal (971) 915539192\n",
      "977 Fractional ideal (977) 932605080\n",
      "983 Fractional ideal (983) 949897265\n",
      "991 Fractional ideal (991) 973224630\n",
      "997 Fractional ideal (997) 991055265\n"
     ]
    }
   ],
   "source": [
    "for l in range(1000):\n",
    "    \n",
    "    if l in Primes() and E.conductor().norm() % l  !=0 % l:\n",
    "         for I in K.primes_above(l):\n",
    "                   print(l,I,E.reduction(I).cardinality())\n",
    "       \n",
    "    \n"
   ]
  },
  {
   "cell_type": "markdown",
   "metadata": {},
   "source": [
    "Exercise 5. Generalise the function you wrote in Exercise 2 to take as input an elliptic curve over any number field, and a prime ideal $\\mathfrak{p}$ of that number field of good reduction, and returns the number of $\\mathbb{F}_\\mathfrak{p}$-points on the curve."
   ]
  },
  {
   "cell_type": "code",
   "execution_count": 57,
   "metadata": {},
   "outputs": [
    {
     "name": "stdout",
     "output_type": "stream",
     "text": [
      "(Fractional ideal (4), 'bad reduction or not prime')\n"
     ]
    }
   ],
   "source": [
    "def redpts(EC,I):\n",
    "    if  I.is_prime() and EC.has_good_reduction(I):\n",
    "        return (I,EC.reduction(I).cardinality())\n",
    "    else: \n",
    "        return (I,'bad reduction or not prime')\n",
    "    \n",
    "print(redpts(E, K.ideal(4)))"
   ]
  },
  {
   "cell_type": "markdown",
   "metadata": {},
   "source": [
    "Exercise 6. Let $a$ be a generator of the number field $K$ in Exercise 3, and let $E/K$ be the elliptic curve ${y}^2+a{y}={x}^{3}-a{x}^{2}+\\left(652a^{2}-391a-1564\\right){x}+10528a^{2}-5979a-24046$. \n",
    "\n",
    "Take 200 prime ideals of $K$ of good reduction, and use your function from Exercise 5 to compute the number of points over the reduction. What do you notice? Can you explain this?"
   ]
  },
  {
   "cell_type": "code",
   "execution_count": null,
   "metadata": {},
   "outputs": [
    {
     "name": "stdout",
     "output_type": "stream",
     "text": [
      "0 2 (Fractional ideal (2), 13)\n",
      "1 3 (Fractional ideal (3), 'bad reduction or not prime')\n",
      "2 5 (Fractional ideal (5), 104)\n",
      "3 7 (Fractional ideal (-a^2 - a + 2), 13)\n",
      "4 11 (Fractional ideal (11), 1274)\n",
      "5 13 (Fractional ideal (a^2 + a - 3), 13)\n",
      "6 13 (Fractional ideal (a^2 - 2*a - 2), 13)\n",
      "7 13 (Fractional ideal (-2*a^2 + a + 2), 13)\n",
      "8 17 (Fractional ideal (17), 4914)\n",
      "9 19 (Fractional ideal (19), 6916)\n",
      "10 23 (Fractional ideal (23), 12168)\n",
      "11 29 (Fractional ideal (3*a^2 - 2*a - 4), 26)\n",
      "12 29 (Fractional ideal (2*a^2 - 3*a - 3), 26)\n",
      "13 29 (Fractional ideal (a^2 - 5), 26)\n",
      "14 31 (Fractional ideal (31), 29900)\n",
      "15 37 (Fractional ideal (37), 50960)\n",
      "16 41 (Fractional ideal (a^2 + 2*a - 4), 52)\n",
      "17 41 (Fractional ideal (2*a^2 - 3*a - 4), 52)\n",
      "18 41 (Fractional ideal (3*a^2 - a - 3), 52)\n",
      "19 43 (Fractional ideal (a^2 - 3*a - 2), 39)\n",
      "20 43 (Fractional ideal (-2*a^2 - a + 5), 39)\n",
      "21 43 (Fractional ideal (-3*a^2 + 2*a + 3), 39)\n",
      "22 47 (Fractional ideal (47), 103194)\n",
      "23 53 (Fractional ideal (53), 149058)\n",
      "24 59 (Fractional ideal (59), 204984)\n",
      "25 61 (Fractional ideal (61), 227812)\n",
      "26 67 (Fractional ideal (67), 299884)\n",
      "27 71 (Fractional ideal (4*a^2 - 3*a - 5), 78)\n",
      "28 71 (Fractional ideal (-3*a^2 + 4*a + 5), 78)\n",
      "29 71 (Fractional ideal (a^2 - 6), 78)\n",
      "30 73 (Fractional ideal (73), 388388)\n",
      "31 79 (Fractional ideal (79), 492804)\n",
      "32 83 (Fractional ideal (4*a^2 - 2*a - 5), 78)\n",
      "33 83 (Fractional ideal (2*a^2 + 2*a - 5), 78)\n",
      "34 83 (Fractional ideal (-2*a^2 + 4*a + 3), 78)\n",
      "35 89 (Fractional ideal (89), 705146)\n",
      "36 97 (Fractional ideal (-3*a^2 - a + 7), 104)\n",
      "37 97 (Fractional ideal (-4*a^2 + 3*a + 4), 104)\n",
      "38 97 (Fractional ideal (a^2 - 4*a - 2), 104)\n",
      "39 101 (Fractional ideal (101), 1030900)\n",
      "40 103 (Fractional ideal (103), 1090908)\n",
      "41 107 (Fractional ideal (107), 1222988)\n",
      "42 109 (Fractional ideal (109), 1297244)\n",
      "43 113 (Fractional ideal (-3*a^2 - a + 8), 104)\n",
      "44 113 (Fractional ideal (-4*a^2 + 3*a + 3), 104)\n",
      "45 113 (Fractional ideal (a^2 - 4*a - 3), 104)\n",
      "46 127 (Fractional ideal (-2*a^2 + 5*a + 2), 143)\n",
      "47 127 (Fractional ideal (3*a^2 + 2*a - 6), 143)\n",
      "48 127 (Fractional ideal (5*a^2 - 3*a - 7), 143)\n",
      "49 131 (Fractional ideal (131), 2245334)\n",
      "50 137 (Fractional ideal (137), 2568150)\n",
      "51 139 (Fractional ideal (a + 5), 143)\n",
      "52 139 (Fractional ideal (a^2 - a + 4), 143)\n",
      "53 139 (Fractional ideal (a^2 - 7), 143)\n",
      "54 149 (Fractional ideal (149), 3304314)\n",
      "55 151 (Fractional ideal (151), 3439800)\n",
      "56 157 (Fractional ideal (157), 3866044)\n",
      "57 163 (Fractional ideal (163), 4332640)\n",
      "58 167 (Fractional ideal (-5*a^2 + 2*a + 6), 182)\n",
      "59 167 (Fractional ideal (-2*a^2 - 3*a + 6), 182)\n",
      "60 167 (Fractional ideal (-3*a^2 + 5*a + 5), 182)\n",
      "61 173 (Fractional ideal (173), 5181358)\n",
      "62 179 (Fractional ideal (179), 5736406)\n",
      "63 181 (Fractional ideal (-4*a^2 - a + 9), 169)\n",
      "64 181 (Fractional ideal (-5*a^2 + 4*a + 5), 169)\n",
      "65 181 (Fractional ideal (a^2 - 5*a - 2), 169)\n",
      "66 191 (Fractional ideal (191), 6972602)\n",
      "67 193 (Fractional ideal (193), 7194096)\n",
      "68 197 (Fractional ideal (5*a^2 - 2*a - 5), 182)\n",
      "69 197 (Fractional ideal (3*a^2 - 5*a - 6), 182)\n",
      "70 197 (Fractional ideal (2*a^2 + 3*a - 7), 182)\n",
      "71 199 (Fractional ideal (199), 7880600)\n",
      "72 211 (Fractional ideal (-5*a^2 + 4*a + 4), 208)\n",
      "73 211 (Fractional ideal (a^2 - 5*a - 3), 208)\n",
      "74 211 (Fractional ideal (4*a^2 + a - 10), 208)\n",
      "75 223 (Fractional ideal (3*a^2 + 2*a - 9), 208)\n",
      "76 223 (Fractional ideal (-5*a^2 + 3*a + 4), 208)\n",
      "77 223 (Fractional ideal (-2*a^2 + 5*a + 5), 208)\n",
      "78 227 (Fractional ideal (227), 11703510)\n",
      "79 229 (Fractional ideal (229), 12002796)\n",
      "80 233 (Fractional ideal (233), 12653316)\n",
      "81 239 (Fractional ideal (a + 6), 234)\n",
      "82 239 (Fractional ideal (a^2 - a + 5), 234)\n",
      "83 239 (Fractional ideal (a^2 - 8), 234)\n",
      "84 241 (Fractional ideal (241), 14004900)\n",
      "85 251 (Fractional ideal (3*a^2 + 3*a - 7), 260)\n",
      "86 251 (Fractional ideal (-3*a^2 + 6*a + 4), 260)\n",
      "87 251 (Fractional ideal (-6*a^2 + 3*a + 8), 260)\n",
      "88 257 (Fractional ideal (257), 16977064)\n",
      "89 263 (Fractional ideal (263), 18194540)\n",
      "90 269 (Fractional ideal (269), 19469736)\n",
      "91 271 (Fractional ideal (271), 19911424)\n",
      "92 277 (Fractional ideal (277), 21262540)\n",
      "93 281 (Fractional ideal (a^2 - a - 8), 286)\n",
      "94 281 (Fractional ideal (a^2 + 5), 286)\n",
      "95 281 (Fractional ideal (a - 7), 286)\n",
      "96 283 (Fractional ideal (283), 22657180)\n",
      "97 293 (Fractional ideal (2*a^2 - 6*a - 3), 286)\n",
      "98 293 (Fractional ideal (4*a^2 + 2*a - 9), 286)\n",
      "99 293 (Fractional ideal (-6*a^2 + 4*a + 7), 286)\n",
      "100 307 (Fractional ideal (-3*a^2 + 6*a + 5), 325)\n",
      "101 307 (Fractional ideal (3*a^2 + 3*a - 8), 325)\n",
      "102 307 (Fractional ideal (6*a^2 - 3*a - 7), 325)\n",
      "103 311 (Fractional ideal (311), 30074850)\n",
      "104 313 (Fractional ideal (313), 30663360)\n",
      "105 317 (Fractional ideal (317), 31864014)\n",
      "106 331 (Fractional ideal (331), 36255492)\n",
      "107 337 (Fractional ideal (-3*a^2 + 7*a + 3), 325)\n",
      "108 337 (Fractional ideal (3*a^2 + 4*a - 7), 325)\n",
      "109 337 (Fractional ideal (4*a^2 + 3*a - 8), 325)\n",
      "110 347 (Fractional ideal (347), 41782468)\n",
      "111 349 (Fractional ideal (2*a^2 + a + 4), 364)\n",
      "112 349 (Fractional ideal (6*a^2 - 2*a - 5), 364)\n",
      "113 349 (Fractional ideal (a^2 - 6*a - 3), 364)\n",
      "114 353 (Fractional ideal (353), 43983680)\n",
      "115 359 (Fractional ideal (359), 46281820)\n",
      "116 367 (Fractional ideal (367), 49421684)\n",
      "117 373 (Fractional ideal (373), 51908688)\n",
      "118 379 (Fractional ideal (-2*a^2 + 6*a + 5), 377)\n",
      "119 379 (Fractional ideal (-4*a^2 - 2*a + 11), 377)\n",
      "120 379 (Fractional ideal (6*a^2 - 4*a - 5), 377)\n",
      "121 383 (Fractional ideal (383), 56169828)\n",
      "122 389 (Fractional ideal (389), 58857084)\n",
      "123 397 (Fractional ideal (397), 62560784)\n",
      "124 401 (Fractional ideal (401), 64484550)\n",
      "125 409 (Fractional ideal (409), 68423940)\n",
      "126 419 (Fractional ideal (4*a^2 - 7*a - 6), 390)\n",
      "127 419 (Fractional ideal (7*a^2 - 3*a - 9), 390)\n",
      "128 419 (Fractional ideal (-3*a^2 - 4*a + 8), 390)\n",
      "129 421 (Fractional ideal (4*a^2 + 3*a - 9), 429)\n",
      "130 421 (Fractional ideal (-7*a^2 + 4*a + 9), 429)\n",
      "131 421 (Fractional ideal (-3*a^2 + 7*a + 4), 429)\n",
      "132 431 (Fractional ideal (431), 80045550)\n",
      "133 433 (Fractional ideal (a^2 - a - 9), 403)\n",
      "134 433 (Fractional ideal (a^2 + 6), 403)\n",
      "135 433 (Fractional ideal (a - 8), 403)\n",
      "136 439 (Fractional ideal (439), 84604520)\n",
      "137 443 (Fractional ideal (443), 86952528)\n",
      "138 449 (Fractional ideal (a^2 + a - 10), 468)\n",
      "139 449 (Fractional ideal (-8*a^2 + 6*a + 11), 468)\n",
      "140 449 (Fractional ideal (-5*a^2 + 7*a + 9), 468)\n",
      "141 457 (Fractional ideal (457), 95430244)\n",
      "142 461 (Fractional ideal (-7*a^2 + 5*a + 8), 442)\n",
      "143 461 (Fractional ideal (2*a^2 - 7*a - 3), 442)\n",
      "144 461 (Fractional ideal (5*a^2 + 2*a - 11), 442)\n",
      "145 463 (Fractional ideal (a^2 - 2*a + 7), 481)\n",
      "146 463 (Fractional ideal (a^2 + a + 6), 481)\n",
      "147 463 (Fractional ideal (2*a^2 - a - 11), 481)\n",
      "148 467 (Fractional ideal (467), 101855754)\n",
      "149 479 (Fractional ideal (479), 109883956)\n",
      "150 487 (Fractional ideal (487), 115516804)\n",
      "151 491 (Fractional ideal (7*a^2 - 3*a - 8), 520)\n",
      "152 491 (Fractional ideal (4*a^2 - 7*a - 7), 520)\n",
      "153 491 (Fractional ideal (3*a^2 + 4*a - 9), 520)\n",
      "154 499 (Fractional ideal (499), 124256236)\n",
      "155 503 (Fractional ideal (-2*a^2 - 5), 546)\n",
      "156 503 (Fractional ideal (7*a + 2), 546)\n",
      "157 503 (Fractional ideal (7*a^2 - 2*a - 7), 546)\n",
      "158 509 (Fractional ideal (509), 131875276)\n",
      "159 521 (Fractional ideal (521), 141437790)\n",
      "160 523 (Fractional ideal (523), 143074516)\n",
      "161 541 (Fractional ideal (541), 158316444)\n",
      "162 547 (Fractional ideal (4*a^2 - 7*a - 8), 520)\n",
      "163 547 (Fractional ideal (7*a^2 - 3*a - 7), 520)\n",
      "164 547 (Fractional ideal (-3*a^2 - 4*a + 10), 520)\n",
      "165 557 (Fractional ideal (557), 172805360)\n",
      "166 563 (Fractional ideal (563), 178427210)\n",
      "167 569 (Fractional ideal (569), 184193204)\n",
      "168 571 (Fractional ideal (571), 186143724)\n",
      "169 577 (Fractional ideal (577), 192075520)\n",
      "170 587 (Fractional ideal (7*a^2 - 5*a - 6), 572)\n",
      "171 587 (Fractional ideal (-2*a^2 + 7*a + 5), 572)\n",
      "172 587 (Fractional ideal (5*a^2 + 2*a - 13), 572)\n",
      "173 593 (Fractional ideal (593), 208517400)\n",
      "174 599 (Fractional ideal (599), 214941636)\n",
      "175 601 (Fractional ideal (-3*a^2 + 7*a + 7), 611)\n",
      "176 601 (Fractional ideal (-4*a^2 - 3*a + 12), 611)\n",
      "177 601 (Fractional ideal (-7*a^2 + 4*a + 6), 611)\n",
      "178 607 (Fractional ideal (607), 223678260)\n",
      "179 613 (Fractional ideal (613), 230369620)\n",
      "180 617 (Fractional ideal (5*a^2 + 2*a - 14), 624)\n",
      "181 617 (Fractional ideal (4*a^2 + 3*a - 13), 624)\n",
      "182 617 (Fractional ideal (-5*a^2 - 2*a + 15), 624)\n"
     ]
    },
    {
     "name": "stdout",
     "output_type": "stream",
     "text": [
      "183 619 (Fractional ideal (619), 237147196)\n",
      "184 631 (Fractional ideal (a^2 - a - 10), 624)\n",
      "185 631 (Fractional ideal (a^2 + 7), 624)\n",
      "186 631 (Fractional ideal (a - 9), 624)\n",
      "187 641 (Fractional ideal (641), 263374722)\n",
      "188 643 (Fractional ideal (-5*a^2 - 3*a + 11), 663)\n",
      "189 643 (Fractional ideal (8*a^2 - 5*a - 10), 663)\n",
      "190 643 (Fractional ideal (3*a^2 - 8*a - 4), 663)\n",
      "191 647 (Fractional ideal (647), 270843898)\n",
      "192 653 (Fractional ideal (653), 278474508)\n",
      "193 659 (Fractional ideal (a^2 + a - 11), 624)\n",
      "194 659 (Fractional ideal (a^2 - 2*a - 10), 624)\n",
      "195 659 (Fractional ideal (-2*a^2 + a - 6), 624)\n",
      "196 661 (Fractional ideal (661), 288792400)\n",
      "197 673 (Fractional ideal (a^2 - 2*a + 8), 715)\n",
      "198 673 (Fractional ideal (a^2 + a + 7), 715)\n",
      "199 673 (Fractional ideal (-2*a^2 + a + 12), 715)\n",
      "200 677 (Fractional ideal (677), 310311378)\n"
     ]
    }
   ],
   "source": [
    "i = 0\n",
    "E = EllipticCurve(K, [0,-a,a, 652*a^2-391*a-1564, 10528*a^2-5979*a-24046])\n",
    "\n",
    "for p in range(100):\n",
    "    for p in Primes():\n",
    "        for I in K.primes_above(p):\n",
    "            if i <= 200:\n",
    "                    print(i,p,redpts(E,I))\n",
    "                    i += 1\n",
    "            \n",
    "        "
   ]
  },
  {
   "cell_type": "markdown",
   "metadata": {},
   "source": [
    "The number of points of the reduction at a prime P is roughly $\\lvert K(P)\\rvert$; This can be explained by Hasse's Theorem $$(N_p-\\lvert K(P)\\rvert-1)) \\leq 2\\sqrt{\\lvert K(P)\\rvert}$$"
   ]
  },
  {
   "cell_type": "markdown",
   "metadata": {},
   "source": []
  }
 ],
 "metadata": {
  "kernelspec": {
   "display_name": "SageMath 9.2",
   "language": "sage",
   "name": "sagemath"
  },
  "language_info": {
   "codemirror_mode": {
    "name": "ipython",
    "version": 3
   },
   "file_extension": ".py",
   "mimetype": "text/x-python",
   "name": "python",
   "nbconvert_exporter": "python",
   "pygments_lexer": "ipython3",
   "version": "3.7.7"
  }
 },
 "nbformat": 4,
 "nbformat_minor": 4
}
