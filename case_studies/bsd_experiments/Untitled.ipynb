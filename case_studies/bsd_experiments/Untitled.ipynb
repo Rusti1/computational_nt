{
 "cells": [
  {
   "cell_type": "markdown",
   "metadata": {},
   "source": [
    "We verify the analytic CNF.\n",
    "$$ \\operatorname{res}_{s=1}(\\zeta_K(s)) = \\lim_{s \\to 1} (s-1)\\zeta_K(s)= \\frac{2^{r_1}(2\\pi)^{r_2}}{\\lvert\\mu(K)\\rvert\\sqrt{\\lvert d_K\\rvert}}h_kR_K $$"
   ]
  },
  {
   "cell_type": "code",
   "execution_count": 23,
   "metadata": {},
   "outputs": [
    {
     "data": {
      "text/plain": [
       "32.80869860874819"
      ]
     },
     "execution_count": 23,
     "metadata": {},
     "output_type": "execute_result"
    }
   ],
   "source": [
    "def zeta_rat(B,s):\n",
    "    running_product=1\n",
    "    for p in prime_range(B):\n",
    "        eulerfact = float((1-p^(-s))^-1)\n",
    "        running_product = running_product*eulerfact\n",
    "    return running_product\n",
    "zeta_rat(100000000,1)"
   ]
  },
  {
   "cell_type": "code",
   "execution_count": 13,
   "metadata": {},
   "outputs": [
    {
     "data": {
      "text/plain": [
       "19.325415013782095"
      ]
     },
     "execution_count": 13,
     "metadata": {},
     "output_type": "execute_result"
    }
   ],
   "source": [
    "def zeta(K,B,s):\n",
    "    it = K.primes_of_bounded_norm_iter(B)\n",
    "    running_product=1\n",
    "    for fp in it:\n",
    "        eulerfact = float((1-fp.norm()^(-s))^-1)\n",
    "        running_product = running_product*eulerfact\n",
    "    return running_product\n",
    "K = QuadraticField(-1)\n",
    "zeta(K,1000000,1)"
   ]
  },
  {
   "cell_type": "code",
   "execution_count": null,
   "metadata": {},
   "outputs": [],
   "source": []
  }
 ],
 "metadata": {
  "kernelspec": {
   "display_name": "SageMath 9.2",
   "language": "sage",
   "name": "sagemath"
  },
  "language_info": {
   "codemirror_mode": {
    "name": "ipython",
    "version": 3
   },
   "file_extension": ".py",
   "mimetype": "text/x-python",
   "name": "python",
   "nbconvert_exporter": "python",
   "pygments_lexer": "ipython3",
   "version": "3.7.7"
  }
 },
 "nbformat": 4,
 "nbformat_minor": 4
}
