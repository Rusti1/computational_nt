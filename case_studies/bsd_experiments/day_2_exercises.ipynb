{
 "cells": [
  {
   "cell_type": "markdown",
   "metadata": {},
   "source": [
    "# Day 2 exercises - Creating `plot_bsd`"
   ]
  },
  {
   "cell_type": "markdown",
   "metadata": {},
   "source": [
    "Exercise 1. Using your function from Exercise 2 on Sheet 1, write a function which computes the **poor man's $L$-function**\n",
    "\n",
    "$$f_E(x) = \\prod_{p \\leq x}\\frac{N_p(E)}{p}$$\n",
    "\n",
    "for a given elliptic curve $E/\\mathbb{Q}$ and input $x \\in \\mathbb{R}$."
   ]
  },
  {
   "cell_type": "code",
   "execution_count": 1,
   "metadata": {},
   "outputs": [
    {
     "data": {
      "text/plain": [
       "93442649303294014480868966400/9981802802647926561870577337"
      ]
     },
     "execution_count": 1,
     "metadata": {},
     "output_type": "execute_result"
    }
   ],
   "source": [
    "def pts(G,l):\n",
    "    N = G.Np(l)\n",
    "    return N\n",
    "def PML(E,x):\n",
    "    prod=1\n",
    "    for p in Primes():\n",
    "        if p <= x:\n",
    "            prod = prod*pts(E,p)/p\n",
    "        else:\n",
    "            return prod\n",
    "E= EllipticCurve([0,2]);E\n",
    "PML(E,100)\n"
   ]
  },
  {
   "cell_type": "markdown",
   "metadata": {},
   "source": [
    "Exercise 2. Create a scatter plot of $f_E(x)$ for various elliptic curves $E$. What patterns can you observe? "
   ]
  },
  {
   "cell_type": "code",
   "execution_count": 42,
   "metadata": {},
   "outputs": [],
   "source": [
    "import matplotlib.pyplot as plt\n"
   ]
  },
  {
   "cell_type": "code",
   "execution_count": 78,
   "metadata": {
    "scrolled": true
   },
   "outputs": [],
   "source": [
    "E1 = EllipticCurve([1,2,3,4,5])\n",
    "E2 = EllipticCurve([3,4,5,6,7])\n",
    "E3 = EllipticCurve([5,6,7,8,9])\n"
   ]
  },
  {
   "cell_type": "code",
   "execution_count": 26,
   "metadata": {},
   "outputs": [
    {
     "data": {
      "image/png": "[encoded data removed]",
      "text/plain": [
       "<Figure size 432x288 with 1 Axes>"
      ]
     },
     "metadata": {
      "needs_background": "light"
     },
     "output_type": "display_data"
    }
   ],
   "source": [
    "def scatter_plot_color(list, col ,lab):\n",
    "  x = []\n",
    "  y = []\n",
    "  for i in list:\n",
    "    x.append(i[0])\n",
    "    y.append(i[1])\n",
    "\n",
    "  plt.scatter(x,y,color = col,s=1,label = lab)\n",
    "\n",
    "X1 = [[x,PML(E1,x)] for x in range(1000)]\n",
    "X2 = [[x,PML(E2,x)] for x in range(1000)]\n",
    "X3 = [[x,PML(E3,x)] for x in range(1000)]\n",
    "scatter_plot_color(X1,'red','E1')\n",
    "scatter_plot_color(X2,'green','E2')\n",
    "scatter_plot_color(X3, 'blue','E3')\n",
    "plt.legend(loc = 'upper left')\n",
    "plt.show()\n"
   ]
  },
  {
   "cell_type": "markdown",
   "metadata": {},
   "source": [
    "Exercise 3. Create a scatter plot of $\\log(f_E(x))$ against $\\log\\log(x)$ for various elliptic curves $E$. Ensure that the plot includes other helpful user information such as the bound on $x$ used, the Elliptic curves plotted, and possibly suggestive lines of nearest fit."
   ]
  },
  {
   "cell_type": "code",
   "execution_count": 79,
   "metadata": {},
   "outputs": [
    {
     "data": {
      "image/png": "[encoded data removed]",
      "text/plain": [
       "<Figure size 432x288 with 1 Axes>"
      ]
     },
     "metadata": {
      "needs_background": "light"
     },
     "output_type": "display_data"
    },
    {
     "data": {
      "text/plain": [
       "<Figure size 1440x1440 with 0 Axes>"
      ]
     },
     "metadata": {},
     "output_type": "display_data"
    }
   ],
   "source": [
    "colour = [\"red\", \"blue\", \"green\", \"yellow\", \"purple\"]\n",
    "def plot_bsd(ecs_list, B = 1000):\n",
    "            for E in ecs_list:\n",
    "                    X = [[ln(x), PML(E,x)] for x in range(B)]\n",
    "                    scatter_plot_color(X,colour[ecs_list.index(E)%5],str(E.ainvs()))\n",
    "            plt.legend(loc = 'upper left')\n",
    "            plt.xscale(\"log\")\n",
    "            plt.yscale(\"log\")\n",
    "            plt.figure(figsize=(20,20))\n",
    "            plt.show\n",
    "                \n",
    "    \n",
    "E = [E1,E2,E3]                         \n",
    "plot_bsd(E, 1000)                          \n",
    "    \n",
    "    \n",
    "    \n",
    "    \n",
    "    \n",
    "    "
   ]
  },
  {
   "cell_type": "markdown",
   "metadata": {},
   "source": [
    "Exercise 4. Create a `plot_bsd` function which works for a list of elliptic curves over an arbitrary number field."
   ]
  },
  {
   "cell_type": "code",
   "execution_count": null,
   "metadata": {},
   "outputs": [],
   "source": []
  },
  {
   "cell_type": "markdown",
   "metadata": {},
   "source": [
    "Exercise 5. Can you find an elliptic curve $E/\\mathbb{Q}$, and four number fields $K_1, K_2, K_3, K_4$ for which the rank of $E(K_i)$ is different for each $i$. Create the BSD plot for these base-changed curves."
   ]
  },
  {
   "cell_type": "code",
   "execution_count": null,
   "metadata": {},
   "outputs": [],
   "source": []
  },
  {
   "cell_type": "markdown",
   "metadata": {},
   "source": [
    "Exercise 6. Why is the **poor man's analytic rank** (the slope of $\\log(f_E(x))$ against $\\log\\log(x)$) equal to the actual analytic rank (order of vanishing at $s=1$ of $L(E/\\mathbb{Q},s))?"
   ]
  },
  {
   "cell_type": "code",
   "execution_count": null,
   "metadata": {},
   "outputs": [],
   "source": []
  }
 ],
 "metadata": {
  "kernelspec": {
   "display_name": "SageMath 9.2",
   "language": "sage",
   "name": "sagemath"
  },
  "language_info": {
   "codemirror_mode": {
    "name": "ipython",
    "version": 3
   },
   "file_extension": ".py",
   "mimetype": "text/x-python",
   "name": "python",
   "nbconvert_exporter": "python",
   "pygments_lexer": "ipython3",
   "version": "3.7.7"
  }
 },
 "nbformat": 4,
 "nbformat_minor": 4
}
