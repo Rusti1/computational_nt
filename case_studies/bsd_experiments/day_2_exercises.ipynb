{
 "cells": [
  {
   "cell_type": "markdown",
   "metadata": {},
   "source": [
    "# Day 2 exercises - Creating `plot_bsd`"
   ]
  },
  {
   "cell_type": "markdown",
   "metadata": {},
   "source": [
    "Exercise 1. Using your function from Exercise 2 on Sheet 1, write a function which computes the **poor man's $L$-function**\n",
    "\n",
    "$$f_E(x) = \\prod_{p \\leq x}\\frac{N_p(E)}{p}$$\n",
    "\n",
    "for a given elliptic curve $E/\\mathbb{Q}$ and input $x \\in \\mathbb{R}$."
   ]
  },
  {
   "cell_type": "code",
   "execution_count": 2,
   "metadata": {},
   "outputs": [
    {
     "data": {
      "text/plain": [
       "[1, 3/2, 2, 12/5, 108/35]"
      ]
     },
     "execution_count": 2,
     "metadata": {},
     "output_type": "execute_result"
    }
   ],
   "source": [
    "import numpy\n",
    "def PML_list(E,x):\n",
    "    L = [1]\n",
    "    prod = 1\n",
    "    for p in prime_range(1,x):\n",
    "        prod  = prod*E.Np(p)/p\n",
    "        L.append(prod)\n",
    "    return L\n",
    "PML_list(E,10)\n"
   ]
  },
  {
   "cell_type": "code",
   "execution_count": 59,
   "metadata": {},
   "outputs": [
    {
     "name": "stdout",
     "output_type": "stream",
     "text": [
      "10.9 ms ± 0 ns per loop (mean ± std. dev. of 1 run, 1 loop each)\n"
     ]
    }
   ],
   "source": [
    "%%timeit -r 1 -n 1\n",
    "PML(E,10000)"
   ]
  },
  {
   "cell_type": "markdown",
   "metadata": {},
   "source": [
    "Exercise 2. Create a scatter plot of $f_E(x)$ for various elliptic curves $E$. What patterns can you observe? "
   ]
  },
  {
   "cell_type": "code",
   "execution_count": 3,
   "metadata": {},
   "outputs": [],
   "source": [
    "import matplotlib.pyplot as plt\n"
   ]
  },
  {
   "cell_type": "code",
   "execution_count": 3,
   "metadata": {
    "scrolled": true
   },
   "outputs": [],
   "source": [
    "E1 = EllipticCurve([1,2,3,4,5])\n",
    "E2 = EllipticCurve([3,4,5,6,7])\n",
    "E3 = EllipticCurve([5,6,7,8,9])\n"
   ]
  },
  {
   "cell_type": "markdown",
   "metadata": {},
   "source": [
    "Exercise 3. Create a scatter plot of $\\log(f_E(x))$ against $\\log\\log(x)$ for various elliptic curves $E$. Ensure that the plot includes other helpful user information such as the bound on $x$ used, the Elliptic curves plotted, and possibly suggestive lines of nearest fit."
   ]
  },
  {
   "cell_type": "code",
   "execution_count": 8,
   "metadata": {},
   "outputs": [
    {
     "name": "stdout",
     "output_type": "stream",
     "text": [
      "2.83 s ± 0 ns per loop (mean ± std. dev. of 1 run, 1 loop each)\n"
     ]
    },
    {
     "data": {
      "image/png": "[encoded data removed]",
      "text/plain": [
       "<Figure size 432x288 with 1 Axes>"
      ]
     },
     "metadata": {
      "needs_background": "light"
     },
     "output_type": "display_data"
    },
    {
     "data": {
      "text/plain": [
       "<Figure size 1440x1440 with 0 Axes>"
      ]
     },
     "metadata": {},
     "output_type": "display_data"
    }
   ],
   "source": [
    "%%timeit -r 1 -n 1\n",
    "colour = [\"red\", \"blue\", \"green\", \"yellow\", \"purple\"]\n",
    "def plot_bsd_faster(ecs_list,B):\n",
    "    x = [0]+[log(a) for a in prime_range(B)]\n",
    "    for E in ecs_list:\n",
    "        y = PML_list(E,B)\n",
    "        plt.scatter(x,y,color = colour[ecs_list.index(E)%5],s=1,label = str(E.ainvs())+\"rank:\"+str(E.rank()))\n",
    "    plt.legend(loc = 'upper left')\n",
    "    plt.xscale(\"log\")\n",
    "    plt.yscale(\"log\")\n",
    "    plt.figure(figsize=(20,20))\n",
    "    #plt.savefig('hopethisworks.png', dpi=100)\n",
    "#trying to use barinders curves\n",
    "B1 = EllipticCurve('11a1')\n",
    "B2 = EllipticCurve('37a1')\n",
    "B3 = EllipticCurve('389a1')\n",
    "B4 = EllipticCurve('5077a1')\n",
    "Bar = [B1, B2, B3, B4]\n",
    "plot_bsd_faster(Bar, 10000)"
   ]
  },
  {
   "cell_type": "markdown",
   "metadata": {},
   "source": [
    "Exercise 4. Create a `plot_bsd` function which works for a list of elliptic curves over an arbitrary number field."
   ]
  },
  {
   "cell_type": "code",
   "execution_count": 6,
   "metadata": {},
   "outputs": [],
   "source": [
    "#Poorman over fields\n",
    "def PML_list_NF(E,K,x):\n",
    "    L = [(1,1)]\n",
    "    prod = 1\n",
    "    for S in K.primes_of_bounded_norm(x):\n",
    "           if  E.has_good_reduction(S):\n",
    "                prod = prod*E.reduction(S).cardinality()/S.norm()\n",
    "                L.append((S.norm(),prod))\n",
    "    return L\n",
    "\n",
    "\n",
    "def PMLNF(E,K,x):\n",
    "    prod=1\n",
    "    for S in K.primes_of_bounded_norm(x):\n",
    "            if  E.has_good_reduction(S):\n",
    "                prod = prod*E.reduction(S).cardinality()/S.norm()\n",
    "    return L                \n",
    "        \n",
    "K.<a> = NumberField(x^2+1)\n",
    "E = EllipticCurve(K,[0,5])\n",
    "LOL = PML_list_NF(E,K,500)"
   ]
  },
  {
   "cell_type": "code",
   "execution_count": 7,
   "metadata": {},
   "outputs": [
    {
     "data": {
      "image/png": "[encoded data removed]",
      "text/plain": [
       "<Figure size 432x288 with 1 Axes>"
      ]
     },
     "metadata": {
      "needs_background": "light"
     },
     "output_type": "display_data"
    },
    {
     "data": {
      "text/plain": [
       "<Figure size 1440x1440 with 0 Axes>"
      ]
     },
     "metadata": {},
     "output_type": "display_data"
    }
   ],
   "source": [
    "def plot_bsd_NF(ecs_list,F , B):\n",
    "            for E in ecs_list:\n",
    "                        \n",
    "                for E in ecs_list:\n",
    "                        L = PML_list_NF(E,F,B)\n",
    "                        x = [log(entry[0]) for entry in L]\n",
    "                        y = [entry[1] for entry in L]\n",
    "                        plt.scatter(x,y,color = 'green',s=1,label = str(E.ainvs())+\"rank:\"+str(E.rank()))\n",
    "            plt.legend(loc = 'upper left')\n",
    "            plt.xscale(\"log\")\n",
    "            plt.yscale(\"log\")\n",
    "            plt.figure(figsize=(20,20))\n",
    "            plt.show()\n",
    "            return\n",
    "K.<a> = NumberField(x^2+1)\n",
    "E = EllipticCurve(K,[0,5])\n",
    "plot_bsd_NF([E],K,10000)"
   ]
  },
  {
   "cell_type": "markdown",
   "metadata": {},
   "source": [
    "Exercise 5. Can you find an elliptic curve $E/\\mathbb{Q}$, and four number fields $K_1, K_2, K_3, K_4$ for which the rank of $E(K_i)$ is different for each $i$. Create the BSD plot for these base-changed curves."
   ]
  },
  {
   "cell_type": "code",
   "execution_count": 214,
   "metadata": {},
   "outputs": [
    {
     "data": {
      "text/plain": [
       "['5077a1', '11197a1', '11642a1', '12279a1', '13766a1']"
      ]
     },
     "execution_count": 214,
     "metadata": {},
     "output_type": "execute_result"
    }
   ],
   "source": [
    "elliptic_curves.rank(n=5, rank=3, tors=0, labels=True)"
   ]
  },
  {
   "cell_type": "code",
   "execution_count": 10,
   "metadata": {},
   "outputs": [
    {
     "data": {
      "text/plain": [
       "[(x - 1, (1, 1)), (x^2 - 3, (2, 2)), (x^2 - 31, (3, 3))]"
      ]
     },
     "execution_count": 10,
     "metadata": {},
     "output_type": "execute_result"
    }
   ],
   "source": [
    "\n",
    "E = EllipticCurve('37a1')\n",
    "def rootxrank(E,polylist):\n",
    "    L = []\n",
    "    for f in polylist:\n",
    "        F.<a> = NumberField(f)\n",
    "        EF = E.base_extend(F)\n",
    "        L.append((f,EF.rank_bounds()))\n",
    "    return L\n",
    "polys = [x-1,x^2-3,x^2-31]\n",
    "rootxrank(E,polys)\n"
   ]
  },
  {
   "cell_type": "markdown",
   "metadata": {},
   "source": [
    "Exercise 6. Why is the **poor man's analytic rank** (the slope of $\\log(f_E(x))$ against $\\log\\log(x)$) equal to the actual analytic rank (order of vanishing at $s=1$ of $L(E/\\mathbb{Q},s))?"
   ]
  },
  {
   "cell_type": "markdown",
   "metadata": {},
   "source": [
    "Let $L(s) := L(E,s).$ Recall that the logarithmic derivative of $L$ has at most simple poles and their residues is equal to the order of vanishing (or pole order) of $L.$ \n",
    "I.e. $$\\operatorname{rank}_{an} = \\lim_{s \\to 1}(z-1)L'/L.$$"
   ]
  },
  {
   "cell_type": "code",
   "execution_count": null,
   "metadata": {},
   "outputs": [],
   "source": []
  }
 ],
 "metadata": {
  "kernelspec": {
   "display_name": "SageMath 9.2",
   "language": "sage",
   "name": "sagemath"
  },
  "language_info": {
   "codemirror_mode": {
    "name": "ipython",
    "version": 3
   },
   "file_extension": ".py",
   "mimetype": "text/x-python",
   "name": "python",
   "nbconvert_exporter": "python",
   "pygments_lexer": "ipython3",
   "version": "3.7.7"
  }
 },
 "nbformat": 4,
 "nbformat_minor": 4
}
