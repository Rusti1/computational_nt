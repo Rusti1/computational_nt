{
 "cells": [
  {
   "cell_type": "markdown",
   "source": [
    "# Day 2 exercises - Creating `plot_bsd`"
   ],
   "metadata": {}
  },
  {
   "cell_type": "markdown",
   "source": [
    "Exercise 1. Using your function from Exercise 2 on Sheet 1, write a function which computes the **poor man's $L$-function**\n",
    "\n",
    "$$f_E(x) = \\prod_{p \\leq x}\\frac{N_p(E)}{p}$$\n",
    "\n",
    "for a given elliptic curve $E/\\mathbb{Q}$ and input $x \\in \\mathbb{R}$."
   ],
   "metadata": {}
  },
  {
   "cell_type": "code",
   "execution_count": null,
   "source": [],
   "outputs": [],
   "metadata": {}
  },
  {
   "cell_type": "markdown",
   "source": [
    "Exercise 2. Create a scatter plot of $f_E(x)$ for various elliptic curves $E$. What patterns can you observe? "
   ],
   "metadata": {}
  },
  {
   "cell_type": "code",
   "execution_count": null,
   "source": [],
   "outputs": [],
   "metadata": {}
  },
  {
   "cell_type": "markdown",
   "source": [
    "Exercise 3. Create a scatter plot of $\\log(f_E(x))$ against $\\log\\log(x)$ for various elliptic curves $E$. Ensure that the plot includes other helpful user information such as the bound on $x$ used, the Elliptic curves plotted, and possibly suggestive lines of nearest fit."
   ],
   "metadata": {}
  },
  {
   "cell_type": "code",
   "execution_count": null,
   "source": [
    "def plot_bsd(ecs_list, B = 1000):\n",
    "    \"\"\"This plots the poor man's L-function for the elliptic curves in ec_list\n",
    "    up to the bound B\n",
    "\n",
    "    Args:\n",
    "        ecs_list ([EllipticCurve]): List of EllipticCurve objects, all defined\n",
    "                                    over Q.\n",
    "        B (int, optional): The bound on primes to take. Defaults to 1000.\n",
    "    \"\"\"\n",
    "    \n",
    "    # enter your code here :) Feel free to change the function signature\n",
    "    # if desired"
   ],
   "outputs": [],
   "metadata": {}
  },
  {
   "cell_type": "markdown",
   "source": [
    "Exercise 4. Create a `plot_bsd` function which works for a list of elliptic curves over an arbitrary number field."
   ],
   "metadata": {}
  },
  {
   "cell_type": "code",
   "execution_count": null,
   "source": [],
   "outputs": [],
   "metadata": {}
  },
  {
   "cell_type": "markdown",
   "source": [
    "Exercise 5. Can you find an elliptic curve $E/\\mathbb{Q}$, and four number fields $K_1, K_2, K_3, K_4$ for which the rank of $E(K_i)$ is different for each $i$. Create the BSD plot for these base-changed curves."
   ],
   "metadata": {}
  },
  {
   "cell_type": "code",
   "execution_count": null,
   "source": [],
   "outputs": [],
   "metadata": {}
  },
  {
   "cell_type": "markdown",
   "source": [
    "Exercise 6. Why is the **poor man's analytic rank** (the slope of $\\log(f_E(x))$ against $\\log\\log(x)$) equal to the actual analytic rank (order of vanishing at $s=1$ of $L(E/\\mathbb{Q},s))?"
   ],
   "metadata": {}
  },
  {
   "cell_type": "code",
   "execution_count": null,
   "source": [],
   "outputs": [],
   "metadata": {}
  }
 ],
 "metadata": {
  "kernelspec": {
   "display_name": "SageMath 9.2",
   "language": "sage",
   "name": "sagemath"
  },
  "language_info": {
   "codemirror_mode": {
    "name": "ipython",
    "version": 3
   },
   "file_extension": ".py",
   "mimetype": "text/x-python",
   "name": "python",
   "nbconvert_exporter": "python",
   "pygments_lexer": "ipython3",
   "version": "3.8.5"
  }
 },
 "nbformat": 4,
 "nbformat_minor": 4
}