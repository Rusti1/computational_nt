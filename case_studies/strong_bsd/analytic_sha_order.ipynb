{
 "cells": [
  {
   "cell_type": "markdown",
   "metadata": {},
   "source": [
    "# Analytic order of Sha"
   ]
  },
  {
   "cell_type": "markdown",
   "metadata": {},
   "source": [
    "Exercise 1. Write a function which takes as input an elliptic curve over Q, and outputs the analytic order of sha."
   ]
  },
  {
   "cell_type": "code",
   "execution_count": 30,
   "metadata": {},
   "outputs": [
    {
     "data": {
      "text/plain": [
       "Elliptic Curve defined by y^2 + y = x^3 - x over Rational Field"
      ]
     },
     "execution_count": 30,
     "metadata": {},
     "output_type": "execute_result"
    }
   ],
   "source": [
    "#preliminaryfunctions:\n",
    "#compute Omega\n",
    "def period(E):\n",
    "    b2 = E.b2()\n",
    "    b4 = E.b4()\n",
    "    b6 = E.b6()\n",
    "    f = 4*x^3 + b2*x^2+2*b4*x + b6\n",
    "    roots = f.roots()\n",
    "    difference = [roots[2][0]-roots[0][0],roots[2][0]-roots[1][0]]\n",
    "    P = CC(difference[0]).agm(CC(difference[1]))\n",
    "    return(P)\n",
    "E = EllipticCurve('37a1')\n",
    "period(E)\n",
    "def regul(E):\n",
    "    h = E.height_function()\n",
    "    def pairing(x,y):\n",
    "        z = 1/2*(h(x+y)-h(x)-h(y))\n",
    "        return z\n",
    "    genos = E.gens()\n",
    "    mat = matrix(CC, len(genos), lambda i , j : pairing(genos[i],genos[j]))\n",
    "    return(mat.det())\n",
    "regul(E)\n",
    "E"
   ]
  },
  {
   "cell_type": "code",
   "execution_count": 28,
   "metadata": {},
   "outputs": [
    {
     "name": "stdout",
     "output_type": "stream",
     "text": [
      "Coefficient: 0.306000000000000\n",
      "Torsion_Cardinality: 1.00000000000000\n",
      "Omega: 1.15137066205193 + 2.40984344195042e-16*I\n",
      "TamagawaProduct: 1\n",
      "Regulator: 0.0511114082399688\n"
     ]
    },
    {
     "data": {
      "text/plain": [
       "5.19982132144520 - 1.08833373333196e-15*I"
      ]
     },
     "execution_count": 28,
     "metadata": {},
     "output_type": "execute_result"
    }
   ],
   "source": [
    "def analytic_sha_order(E):\n",
    "    leading_coeff = CC(sympow.analytic_rank(E)[1])\n",
    "    torsion_cardinality = CC(E.torsion_subgroup().cardinality())\n",
    "    omega = period(E)\n",
    "    tamagawa_product = E.tamagawa_product()\n",
    "    regulator = regul(E)\n",
    "    print('Coefficient: '+str(leading_coeff))\n",
    "    print('Torsion_Cardinality: '+str(torsion_cardinality))\n",
    "    print('Omega: '+str(omega))\n",
    "    print('TamagawaProduct: '+str(tamagawa_product))\n",
    "    print('Regulator: '+str(regul(E)))\n",
    "    Shan = (torsion_cardinality*torsion_cardinality *leading_coeff) / (omega*regulator*tamagawa_product) \n",
    "    return(Shan)\n",
    "    # TODO\n",
    "analytic_sha_order(E)"
   ]
  },
  {
   "cell_type": "markdown",
   "metadata": {},
   "source": [
    "Exercise 2. Run your function on several of the elliptic curves in the LMFDB using the API, and verify your result with the order given there."
   ]
  },
  {
   "cell_type": "markdown",
   "metadata": {},
   "source": [
    "Exercise 3. Can you extend the function to arbitrary number fields?"
   ]
  }
 ],
 "metadata": {
  "kernelspec": {
   "display_name": "SageMath 9.2",
   "language": "sage",
   "name": "sagemath"
  },
  "language_info": {
   "codemirror_mode": {
    "name": "ipython",
    "version": 3
   },
   "file_extension": ".py",
   "mimetype": "text/x-python",
   "name": "python",
   "nbconvert_exporter": "python",
   "pygments_lexer": "ipython3",
   "version": "3.7.7"
  }
 },
 "nbformat": 4,
 "nbformat_minor": 4
}
