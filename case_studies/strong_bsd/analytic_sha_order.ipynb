{
 "cells": [
  {
   "cell_type": "markdown",
   "metadata": {},
   "source": [
    "# Analytic order of Sha"
   ]
  },
  {
   "cell_type": "markdown",
   "metadata": {},
   "source": [
    "Exercise 1. Write a function which takes as input an elliptic curve over Q, and outputs the analytic order of sha."
   ]
  },
  {
   "cell_type": "code",
   "execution_count": 64,
   "metadata": {},
   "outputs": [
    {
     "name": "stdout",
     "output_type": "stream",
     "text": [
      "[1.27840061855668 + 0.716180024124891*I, 2.99815953552368*I, 1.67961587104507]\n"
     ]
    }
   ],
   "source": [
    "#preliminaryfunctions:\n",
    "#compute Omega\n",
    "def period(E):\n",
    "    b2 = E.b2()\n",
    "    b4 = E.b4()\n",
    "    b6 = E.b6()\n",
    "    f = 4*x^3 + b2*x^2+2*b4*x + b6\n",
    "    roots = f.roots()\n",
    "    e3 = roots[2][0]\n",
    "    e1 = roots[0][0]\n",
    "    e2 = roots[1][0]\n",
    "    ees1 = [e1,e2,e3]\n",
    "    ees2 = [e2,e1,e3]\n",
    "    ees3 = [e3,e1,e2]\n",
    "    listees = [ees1,ees2,ees3]\n",
    "    #ees.sort(reverse = true)\n",
    "    #print(ees)\n",
    "    periods = []\n",
    "    for ees in listees:\n",
    "        difference = [ees[0]-ees[1],ees[0]-ees[2]]\n",
    "        a0 = sqrt(CC(difference[0]))\n",
    "        b0 = sqrt(CC(difference[1]))\n",
    "        if abs(a0-b0)>abs(a0+b0):\n",
    "                     b0 =-b0\n",
    "        periods.append(a0.agm(b0))\n",
    "    factor =  1 + 1/2*(1+sgn(E.discriminant()))\n",
    "    print(periods)\n",
    "    P = 1\n",
    "    for Ps in periods:\n",
    "        if imag(Ps)==0:\n",
    "            P = Ps\n",
    "    return(CC(factor*pi/P))\n",
    "E = EllipticCurve('1077a1')\n",
    "period(E)\n",
    "def regul(E):\n",
    "    h = E.height_function()\n",
    "    def pairing(x,y):\n",
    "        z = 1/2*(h(x+y)-h(x)-h(y))\n",
    "        return z\n",
    "    genos = E.gens()\n",
    "    mat = matrix(CC, len(genos), lambda i , j : pairing(genos[i],genos[j]))\n",
    "    return(mat.det())\n"
   ]
  },
  {
   "cell_type": "code",
   "execution_count": 63,
   "metadata": {},
   "outputs": [
    {
     "name": "stdout",
     "output_type": "stream",
     "text": [
      "[1.27840061855668 + 0.716180024124891*I, 2.99815953552368*I, 1.67961587104507]\n",
      "Coefficient: 1.50947000000000\n",
      "Torsion_Cardinality: 1.00000000000000\n",
      "Real Period: 3.74084659206641\n",
      "TamagawaProduct: 2\n",
      "Regulator: 0.201754913467893\n"
     ]
    },
    {
     "data": {
      "text/plain": [
       "1.00000108584055"
      ]
     },
     "execution_count": 63,
     "metadata": {},
     "output_type": "execute_result"
    }
   ],
   "source": [
    "def analytic_sha_order(E):\n",
    "    leading_coeff = CC(sympow.analytic_rank(E)[1])\n",
    "    torsion_cardinality = CC(E.torsion_subgroup().cardinality())\n",
    "    omega = period(E)\n",
    "    tamagawa_product = E.tamagawa_product()\n",
    "    regulator = regul(E)\n",
    "    print('Coefficient: '+str(leading_coeff))\n",
    "    print('Torsion_Cardinality: '+str(torsion_cardinality))\n",
    "    print('Real Period: '+str(omega))\n",
    "    print('TamagawaProduct: '+str(tamagawa_product))\n",
    "    print('Regulator: '+str(regul(E)))\n",
    "    Shan = (torsion_cardinality*torsion_cardinality *leading_coeff) / (omega*regulator*tamagawa_product) \n",
    "    return(Shan)\n",
    "    # TODO\n",
    "analytic_sha_order(E)"
   ]
  },
  {
   "cell_type": "markdown",
   "metadata": {},
   "source": [
    "Exercise 2. Run your function on several of the elliptic curves in the LMFDB using the API, and verify your result with the order given there."
   ]
  },
  {
   "cell_type": "markdown",
   "metadata": {},
   "source": [
    "Exercise 3. Can you extend the function to arbitrary number fields?"
   ]
  }
 ],
 "metadata": {
  "kernelspec": {
   "display_name": "SageMath 9.2",
   "language": "sage",
   "name": "sagemath"
  },
  "language_info": {
   "codemirror_mode": {
    "name": "ipython",
    "version": 3
   },
   "file_extension": ".py",
   "mimetype": "text/x-python",
   "name": "python",
   "nbconvert_exporter": "python",
   "pygments_lexer": "ipython3",
   "version": "3.7.7"
  }
 },
 "nbformat": 4,
 "nbformat_minor": 4
}
