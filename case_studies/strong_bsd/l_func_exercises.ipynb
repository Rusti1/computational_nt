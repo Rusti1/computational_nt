{
 "cells": [
  {
   "cell_type": "markdown",
   "source": [
    "# $L$-functions of elliptic curves in Sage"
   ],
   "metadata": {}
  },
  {
   "cell_type": "markdown",
   "source": [
    "Exercise 1. Let $E/\\mathbb{Q}$ be the elliptic curve\n",
    "$$y^2 + y = x^3 - x.$$\n",
    "What is the analytic rank of $E$? What is the leading coefficient of the Taylor series expansion of $L_E(s)$ at $s = 1$?"
   ],
   "metadata": {}
  },
  {
   "cell_type": "code",
   "execution_count": null,
   "source": [],
   "outputs": [],
   "metadata": {}
  },
  {
   "cell_type": "markdown",
   "source": [
    "Exercise 2. Let $E/\\mathbb{Q}$ be the elliptic curve\n",
    "$$y^2 + y = x^3 + x^2 - 2x.$$\n",
    "What is the analytic rank of $E$? What is the leading coefficient of the Taylor series expansion of $L_E(s)$ at $s = 1$?"
   ],
   "metadata": {}
  },
  {
   "cell_type": "code",
   "execution_count": null,
   "source": [],
   "outputs": [],
   "metadata": {}
  },
  {
   "cell_type": "markdown",
   "source": [
    "Exercise 3. What is the elliptic curve over $\\mathbb{Q}$ of largest known rank? Can you plot its $L$-function in a striking and aesthetically appealing manner just like how the Riemann zeta-function is shown on its Wikipedia article?"
   ],
   "metadata": {}
  },
  {
   "cell_type": "code",
   "execution_count": null,
   "source": [],
   "outputs": [],
   "metadata": {}
  },
  {
   "cell_type": "markdown",
   "source": [
    "Exercise 4. For the elliptic curves above, what are the values of the $L$ function at the negative integers? Can you explain this? "
   ],
   "metadata": {}
  },
  {
   "cell_type": "markdown",
   "source": [],
   "metadata": {}
  },
  {
   "cell_type": "markdown",
   "source": [
    "Exercise 5. What are the critical values (in the sense of Deligne) of the $L$-function of an elliptic curve? (See e.g. \"Periods\" by Kontsevich and Zagier.) Can you compute these values for the rank-record-holding elliptic curve from Exercise 3?"
   ],
   "metadata": {}
  },
  {
   "cell_type": "markdown",
   "source": [],
   "metadata": {}
  }
 ],
 "metadata": {
  "kernelspec": {
   "display_name": "SageMath 9.2",
   "language": "sage",
   "name": "sagemath"
  },
  "language_info": {
   "codemirror_mode": {
    "name": "ipython",
    "version": 3
   },
   "file_extension": ".py",
   "mimetype": "text/x-python",
   "name": "python",
   "nbconvert_exporter": "python",
   "pygments_lexer": "ipython3",
   "version": "3.8.5"
  }
 },
 "nbformat": 4,
 "nbformat_minor": 4
}