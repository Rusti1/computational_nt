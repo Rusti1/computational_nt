{
 "cells": [
  {
   "cell_type": "code",
   "execution_count": 4,
   "metadata": {},
   "outputs": [
    {
     "data": {
      "text/plain": [
       "73"
      ]
     },
     "execution_count": 4,
     "metadata": {},
     "output_type": "execute_result"
    }
   ],
   "source": [
    "#Databasesearch\n",
    "\n",
    "import json\n",
    "import requests\n",
    "URL_TRUNK = ( \n",
    "    \"https://www.lmfdb.org/api/ec_nfcurves/?_format=json&cm={}&\"\n",
    "    #\"_fields=Clabel,ainvs,rank,sha\"\n",
    ")\n",
    "rank_4_url = URL_TRUNK.format(str(11))\n",
    "my_data = requests.get(url=rank_4_url).json()[\"data\"]\n",
    "len(my_data)"
   ]
  },
  {
   "cell_type": "code",
   "execution_count": null,
   "metadata": {},
   "outputs": [],
   "source": []
  }
 ],
 "metadata": {
  "kernelspec": {
   "display_name": "Python 3",
   "language": "python",
   "name": "python3"
  },
  "language_info": {
   "codemirror_mode": {
    "name": "ipython",
    "version": 3
   },
   "file_extension": ".py",
   "mimetype": "text/x-python",
   "name": "python",
   "nbconvert_exporter": "python",
   "pygments_lexer": "ipython3",
   "version": "3.7.7"
  }
 },
 "nbformat": 4,
 "nbformat_minor": 4
}
